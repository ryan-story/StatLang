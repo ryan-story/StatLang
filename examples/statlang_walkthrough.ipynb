{
 "cells": [
  {
   "cell_type": "markdown",
   "metadata": {},
   "source": [
    "# StatLang v2.0 Comprehensive Walkthrough\n",
    "\n",
    "Welcome to StatLang v2.0! This notebook demonstrates the complete functionality of our open-source statistical analysis system with SAS-inspired syntax.\n",
    "\n",
    "## 🎯 What is StatLang?\n",
    "\n",
    "StatLang is a Python-based statistical analysis system that provides SAS-like syntax for data manipulation and statistical procedures. It combines the familiarity of SAS programming with the power and flexibility of Python's scientific computing ecosystem.\n",
    "\n",
    "## 🚀 Key Features\n",
    "\n",
    "### Core Data Operations\n",
    "- **DATA Steps**: Create and manipulate datasets with DATALINES\n",
    "- **Library Management**: Persistent data storage with LIBNAME\n",
    "- **Variable Creation**: Transformations, conditions, and calculations\n",
    "\n",
    "### Statistical Procedures (v2.0)\n",
    "- **PROC MEANS**: Descriptive statistics with CLASS variables\n",
    "- **PROC FREQ**: Frequency tables with Chi-square tests  \n",
    "- **PROC UNIVARIATE**: Distribution diagnostics and normality tests\n",
    "- **PROC CORR**: Correlation analysis (Pearson, Spearman, Kendall)\n",
    "- **PROC FACTOR**: Principal Component Analysis and Factor Analysis\n",
    "- **PROC CLUSTER**: K-means, Hierarchical, and HDBSCAN clustering\n",
    "- **PROC NPAR1WAY**: Nonparametric tests (Mann-Whitney, Kruskal-Wallis)\n",
    "- **PROC TTEST**: T-tests (independent, paired, one-sample)\n",
    "- **PROC LOGIT**: Logistic regression with odds ratios\n",
    "- **PROC TIMESERIES**: Time series decomposition and ARIMA modeling\n",
    "- **PROC TREE**: Decision tree classification and regression\n",
    "- **PROC FOREST**: Random forest ensemble methods\n",
    "- **PROC BOOST**: Gradient boosting with scikit-learn\n",
    "- **PROC LANGUAGE**: Built-in LLM integration with Hugging Face transformers\n",
    "- **PROC SQL**: SQL query processing with DuckDB\n",
    "\n",
    "## 📋 Getting Started\n",
    "\n",
    "**Important**: Make sure to select the **\"osas\"** kernel for this notebook!\n",
    "\n",
    "Each section below includes:\n",
    "- 📖 **Introduction**: Explanation of the procedure and its capabilities\n",
    "- 💻 **Demo**: Working examples with real data\n",
    "- 📊 **Output**: Expected results and interpretation\n",
    "\n",
    "Let's begin our journey through StatLang v2.0!\n"
   ]
  },
  {
   "cell_type": "markdown",
   "metadata": {},
   "source": [
    "## 📊 DATA Steps: Creating and Manipulating Datasets\n",
    "\n",
    "DATA steps are the foundation of StatLang, allowing you to create, modify, and transform datasets. The `DATALINES` statement provides an easy way to input data directly in your code.\n",
    "\n",
    "### Key Features:\n",
    "- **Direct Data Input**: Use `DATALINES` to embed data in your code\n",
    "- **Variable Types**: Support for character (`$`) and numeric variables\n",
    "- **Data Transformations**: Create new variables, apply conditions, and perform calculations\n",
    "- **Library Storage**: Automatically save datasets to the WORK library\n"
   ]
  },
  {
   "cell_type": "code",
   "execution_count": 1,
   "metadata": {
    "language": "statlang"
   },
   "outputs": [
    {
     "name": "stdout",
     "output_type": "stream",
     "text": [
      "Saved dataset work.employees to library work\n"
     ]
    },
    {
     "data": {
      "text/html": [
       "\n",
       "        <div class=\"statlang-dataset\" style=\"margin: 10px 0; border: 1px solid #ddd; border-radius: 4px; padding: 10px;\">\n",
       "            <h4 style=\"margin: 0 0 10px 0; color: #333;\">Dataset: work.employees</h4>\n",
       "            <p style=\"margin: 0 0 10px 0; color: #666; font-size: 0.9em;\">\n",
       "                10 observations, 9 variables\n",
       "            </p>\n",
       "        \n",
       "            <table style=\"border-collapse: collapse; width: 100%; font-size: 0.9em;\">\n",
       "                <thead>\n",
       "                    <tr style=\"background-color: #f5f5f5;\">\n",
       "            <th style=\"border: 1px solid #ddd; padding: 8px; text-align: left;\">employee_id</th><th style=\"border: 1px solid #ddd; padding: 8px; text-align: left;\">name</th><th style=\"border: 1px solid #ddd; padding: 8px; text-align: left;\">department</th><th style=\"border: 1px solid #ddd; padding: 8px; text-align: left;\">salary</th><th style=\"border: 1px solid #ddd; padding: 8px; text-align: left;\">age</th><th style=\"border: 1px solid #ddd; padding: 8px; text-align: left;\">experience</th><th style=\"border: 1px solid #ddd; padding: 8px; text-align: left;\">performance_score</th><th style=\"border: 1px solid #ddd; padding: 8px; text-align: left;\">satisfaction</th><th style=\"border: 1px solid #ddd; padding: 8px; text-align: left;\">remote</th>\n",
       "                    </tr>\n",
       "                </thead>\n",
       "                <tbody>\n",
       "            <tr><td style=\"border: 1px solid #ddd; padding: 8px;\">1.0</td><td style=\"border: 1px solid #ddd; padding: 8px;\">Alice</td><td style=\"border: 1px solid #ddd; padding: 8px;\">Engineering</td><td style=\"border: 1px solid #ddd; padding: 8px;\">75000.0</td><td style=\"border: 1px solid #ddd; padding: 8px;\">30.0</td><td style=\"border: 1px solid #ddd; padding: 8px;\">5.0</td><td style=\"border: 1px solid #ddd; padding: 8px;\">8.5</td><td style=\"border: 1px solid #ddd; padding: 8px;\">High</td><td style=\"border: 1px solid #ddd; padding: 8px;\">1.0</td></tr><tr><td style=\"border: 1px solid #ddd; padding: 8px;\">2.0</td><td style=\"border: 1px solid #ddd; padding: 8px;\">Bob</td><td style=\"border: 1px solid #ddd; padding: 8px;\">Marketing</td><td style=\"border: 1px solid #ddd; padding: 8px;\">55000.0</td><td style=\"border: 1px solid #ddd; padding: 8px;\">25.0</td><td style=\"border: 1px solid #ddd; padding: 8px;\">2.0</td><td style=\"border: 1px solid #ddd; padding: 8px;\">7.2</td><td style=\"border: 1px solid #ddd; padding: 8px;\">Medium</td><td style=\"border: 1px solid #ddd; padding: 8px;\">0.0</td></tr><tr><td style=\"border: 1px solid #ddd; padding: 8px;\">3.0</td><td style=\"border: 1px solid #ddd; padding: 8px;\">Carol</td><td style=\"border: 1px solid #ddd; padding: 8px;\">Engineering</td><td style=\"border: 1px solid #ddd; padding: 8px;\">80000.0</td><td style=\"border: 1px solid #ddd; padding: 8px;\">35.0</td><td style=\"border: 1px solid #ddd; padding: 8px;\">8.0</td><td style=\"border: 1px solid #ddd; padding: 8px;\">9.1</td><td style=\"border: 1px solid #ddd; padding: 8px;\">High</td><td style=\"border: 1px solid #ddd; padding: 8px;\">0.0</td></tr><tr><td style=\"border: 1px solid #ddd; padding: 8px;\">4.0</td><td style=\"border: 1px solid #ddd; padding: 8px;\">David</td><td style=\"border: 1px solid #ddd; padding: 8px;\">Sales</td><td style=\"border: 1px solid #ddd; padding: 8px;\">45000.0</td><td style=\"border: 1px solid #ddd; padding: 8px;\">28.0</td><td style=\"border: 1px solid #ddd; padding: 8px;\">3.0</td><td style=\"border: 1px solid #ddd; padding: 8px;\">6.8</td><td style=\"border: 1px solid #ddd; padding: 8px;\">Low</td><td style=\"border: 1px solid #ddd; padding: 8px;\">1.0</td></tr><tr><td style=\"border: 1px solid #ddd; padding: 8px;\">5.0</td><td style=\"border: 1px solid #ddd; padding: 8px;\">Eve</td><td style=\"border: 1px solid #ddd; padding: 8px;\">Engineering</td><td style=\"border: 1px solid #ddd; padding: 8px;\">70000.0</td><td style=\"border: 1px solid #ddd; padding: 8px;\">32.0</td><td style=\"border: 1px solid #ddd; padding: 8px;\">6.0</td><td style=\"border: 1px solid #ddd; padding: 8px;\">7.8</td><td style=\"border: 1px solid #ddd; padding: 8px;\">Medium</td><td style=\"border: 1px solid #ddd; padding: 8px;\">1.0</td></tr>\n",
       "                </tbody>\n",
       "            </table>\n",
       "            </div>"
      ],
      "text/plain": [
       "Dataset: work.employees (10 obs, 9 vars)"
      ]
     },
     "metadata": {},
     "output_type": "display_data"
    }
   ],
   "source": [
    "/* Demo 1: Employee Dataset Creation */\n",
    "data work.employees;\n",
    "    input employee_id name $ department $ salary age experience performance_score satisfaction $ remote;\n",
    "    datalines;\n",
    "1 Alice Engineering 75000 30 5 8.5 High 1\n",
    "2 Bob Marketing 55000 25 2 7.2 Medium 0\n",
    "3 Carol Engineering 80000 35 8 9.1 High 0\n",
    "4 David Sales 45000 28 3 6.8 Low 1\n",
    "5 Eve Engineering 70000 32 6 7.8 Medium 1\n",
    "6 Frank Marketing 60000 27 4 8.0 High 0\n",
    "7 Grace Sales 50000 24 1 6.5 Low 1\n",
    "8 Henry Engineering 85000 40 12 9.5 High 0\n",
    "9 Irene HR 62000 29 3 7.5 Medium 1\n",
    "10 Jack Marketing 59000 31 7 8.2 High 0\n",
    ";\n",
    "run;\n"
   ]
  },
  {
   "cell_type": "code",
   "execution_count": 1,
   "metadata": {
    "language": "statlang"
   },
   "outputs": [
    {
     "name": "stdout",
     "output_type": "stream",
     "text": [
      "PROC PRINT - Dataset Contents\n",
      "==================================================\n",
      "Observations: 10\n",
      "Variables: 9\n",
      "\n",
      "employee_id | name     | department  | salary   | age      | experience | performance_score | satisfaction | remote  \n",
      "---------------------------------------------------------------------------------------------------------------------\n",
      "1.0         | Alice    | Engineering | 75000.0  | 30.0     | 5.0        | 8.5               | High         | 1.0     \n",
      "2.0         | Bob      | Marketing   | 55000.0  | 25.0     | 2.0        | 7.2               | Medium       | 0.0     \n",
      "3.0         | Carol    | Engineering | 80000.0  | 35.0     | 8.0        | 9.1               | High         | 0.0     \n",
      "4.0         | David    | Sales       | 45000.0  | 28.0     | 3.0        | 6.8               | Low          | 1.0     \n",
      "5.0         | Eve      | Engineering | 70000.0  | 32.0     | 6.0        | 7.8               | Medium       | 1.0     \n",
      "6.0         | Frank    | Marketing   | 60000.0  | 27.0     | 4.0        | 8.0               | High         | 0.0     \n",
      "7.0         | Grace    | Sales       | 50000.0  | 24.0     | 1.0        | 6.5               | Low          | 1.0     \n",
      "8.0         | Henry    | Engineering | 85000.0  | 40.0     | 12.0       | 9.5               | High         | 0.0     \n",
      "9.0         | Irene    | HR          | 62000.0  | 29.0     | 3.0        | 7.5               | Medium       | 1.0     \n",
      "10.0        | Jack     | Marketing   | 59000.0  | 31.0     | 7.0        | 8.2               | High         | 0.0     \n"
     ]
    }
   ],
   "source": [
    "/* Test 2: PROC PRINT - Display Dataset */\n",
    "proc print data=work.employees;\n",
    "run;\n"
   ]
  },
  {
   "cell_type": "markdown",
   "metadata": {},
   "source": [
    "## 📊 PROC UNIVARIATE: Distribution Diagnostics\n",
    "\n",
    "PROC UNIVARIATE provides detailed univariate analysis including descriptive statistics, distribution shape analysis, and normality tests. It's perfect for understanding the characteristics of individual variables.\n",
    "\n",
    "### Key Features:\n",
    "- **Comprehensive Statistics**: Mean, median, mode, standard deviation, skewness, kurtosis\n",
    "- **Distribution Analysis**: Normality tests and extreme value identification\n",
    "- **Visual Diagnostics**: Histograms and Q-Q plots for distribution assessment\n",
    "- **Outlier Detection**: Identify unusual observations in your data\n"
   ]
  },
  {
   "cell_type": "code",
   "execution_count": 1,
   "metadata": {
    "language": "statlang"
   },
   "outputs": [
    {
     "name": "stdout",
     "output_type": "stream",
     "text": [
      "PROC UNIVARIATE - Univariate Analysis\n",
      "==================================================\n",
      "\n",
      "Variable: salary\n",
      "----------------------------------------\n",
      "Moments\n",
      "  N                                  10\n",
      "  Mean                       64100.000000\n",
      "  Std Deviation              13067.772062\n",
      "  Variance                   170766666.666667\n",
      "  Skewness                     0.205420\n",
      "  Uncorrected SS             42625000000.000000\n",
      "  Corrected SS               1536900000.000000\n",
      "  Coeff Variation             20.386540\n",
      "\n",
      "Basic Statistical Measures\n",
      "  Location                    Variability\n",
      "  Mean      64100.000000     Std Deviation     13067.772062\n",
      "  Median    61000.000000     Variance          170766666.666667\n",
      "  Mode      45000.000000     Range             40000.000000\n",
      "                           Interquartile Range 17750.000000\n",
      "\n",
      "Tests for Location: Mu0=0\n",
      "  Test           -Statistic-    -----p Value------\n",
      "  Student's t     15.511596    Pr > |t|      0.000000\n",
      "  Sign                   10    Pr >= |M|     0.000000\n",
      "  Signed Rank            55    Pr >= |S|     1.000000\n",
      "\n",
      "Quantiles (Definition 5)\n",
      "  Level         Quantile\n",
      "    1%        45450.000000\n",
      "    5%        47250.000000\n",
      "   10%        49500.000000\n",
      "   25%        56000.000000\n",
      "   50%        61000.000000\n",
      "   75%        73750.000000\n",
      "   90%        80500.000000\n",
      "   95%        82750.000000\n",
      "   99%        84550.000000\n",
      "\n",
      "Extreme Observations\n",
      "  ----Lowest----        ----Highest---\n",
      "  Value      Obs        Value      Obs\n",
      "  45000.000000       4    85000.000000       8\n",
      "  50000.000000       7    80000.000000       3\n",
      "  55000.000000       2    75000.000000       1\n",
      "  59000.000000      10    70000.000000       5\n",
      "  60000.000000       6    62000.000000       9\n",
      "\n",
      "Variable: age\n",
      "----------------------------------------\n",
      "Moments\n",
      "  N                                  10\n",
      "  Mean                        30.100000\n",
      "  Std Deviation                4.771443\n",
      "  Variance                    22.766667\n",
      "  Skewness                     0.749888\n",
      "  Uncorrected SS             9265.000000\n",
      "  Corrected SS               204.900000\n",
      "  Coeff Variation             15.851970\n",
      "\n",
      "Basic Statistical Measures\n",
      "  Location                    Variability\n",
      "  Mean       30.100000     Std Deviation       4.771443\n",
      "  Median     29.500000     Variance           22.766667\n",
      "  Mode       24.000000     Range              16.000000\n",
      "                           Interquartile Range   4.500000\n",
      "\n",
      "Tests for Location: Mu0=0\n",
      "  Test           -Statistic-    -----p Value------\n",
      "  Student's t     19.948800    Pr > |t|      0.000000\n",
      "  Sign                   10    Pr >= |M|     0.000000\n",
      "  Signed Rank            55    Pr >= |S|     1.000000\n",
      "\n",
      "Quantiles (Definition 5)\n",
      "  Level         Quantile\n",
      "    1%         24.090000\n",
      "    5%         24.450000\n",
      "   10%         24.900000\n",
      "   25%         27.250000\n",
      "   50%         29.500000\n",
      "   75%         31.750000\n",
      "   90%         35.500000\n",
      "   95%         37.750000\n",
      "   99%         39.550000\n",
      "\n",
      "Extreme Observations\n",
      "  ----Lowest----        ----Highest---\n",
      "  Value      Obs        Value      Obs\n",
      "  24.000000       7    40.000000       8\n",
      "  25.000000       2    35.000000       3\n",
      "  27.000000       6    32.000000       5\n",
      "  28.000000       4    31.000000      10\n",
      "  29.000000       9    30.000000       1\n",
      "\n",
      "Variable: performance_score\n",
      "----------------------------------------\n",
      "Moments\n",
      "  N                                  10\n",
      "  Mean                         7.910000\n",
      "  Std Deviation                0.959687\n",
      "  Variance                     0.921000\n",
      "  Skewness                     0.177075\n",
      "  Uncorrected SS             633.970000\n",
      "  Corrected SS                 8.289000\n",
      "  Coeff Variation             12.132585\n",
      "\n",
      "Basic Statistical Measures\n",
      "  Location                    Variability\n",
      "  Mean        7.910000     Std Deviation       0.959687\n",
      "  Median      7.900000     Variance            0.921000\n",
      "  Mode        6.500000     Range               3.000000\n",
      "                           Interquartile Range   1.150000\n",
      "\n",
      "Tests for Location: Mu0=0\n",
      "  Test           -Statistic-    -----p Value------\n",
      "  Student's t     26.064336    Pr > |t|      0.000000\n",
      "  Sign                   10    Pr >= |M|     0.000000\n",
      "  Signed Rank            55    Pr >= |S|     1.000000\n",
      "\n",
      "Quantiles (Definition 5)\n",
      "  Level         Quantile\n",
      "    1%          6.527000\n",
      "    5%          6.635000\n",
      "   10%          6.770000\n",
      "   25%          7.275000\n",
      "   50%          7.900000\n",
      "   75%          8.425000\n",
      "   90%          9.140000\n",
      "   95%          9.320000\n",
      "   99%          9.464000\n",
      "\n",
      "Extreme Observations\n",
      "  ----Lowest----        ----Highest---\n",
      "  Value      Obs        Value      Obs\n",
      "  6.500000       7    9.500000       8\n",
      "  6.800000       4    9.100000       3\n",
      "  7.200000       2    8.500000       1\n",
      "  7.500000       9    8.200000      10\n",
      "  7.800000       5    8.000000       6\n",
      "\n"
     ]
    }
   ],
   "source": [
    "/* Demo 4: PROC UNIVARIATE - Distribution Diagnostics */\n",
    "proc univariate data=work.employees;\n",
    "    var salary age performance_score;\n",
    "run;\n"
   ]
  },
  {
   "cell_type": "markdown",
   "metadata": {},
   "source": [
    "## 🔗 PROC CORR: Correlation Analysis\n",
    "\n",
    "PROC CORR computes correlation matrices for numeric variables, helping you understand relationships between variables in your dataset.\n",
    "\n",
    "### Key Features:\n",
    "- **Multiple Correlation Types**: Pearson, Spearman, and Kendall correlations\n",
    "- **Significance Testing**: P-values for correlation coefficients\n",
    "- **Missing Data Handling**: Pairwise deletion of missing values\n",
    "- **Matrix Output**: Clear correlation matrix display"
   ]
  },
  {
   "cell_type": "code",
   "execution_count": 1,
   "metadata": {
    "language": "statlang"
   },
   "outputs": [
    {
     "name": "stdout",
     "output_type": "stream",
     "text": [
      "PROC CORR - Correlation Analysis\n",
      "==================================================\n",
      "Method: Pearson\n",
      "\n",
      "Correlation Matrix\n",
      "----------------------------------------\n",
      "Variable        salary       age  experien  performa\n",
      "----------------------------------------------------\n",
      "salary          1.0000    0.8516    0.8290    0.9258\n",
      "age             0.8516    1.0000    0.9716    0.8806\n",
      "experience      0.8290    0.9716    1.0000    0.9135\n",
      "performance_    0.9258    0.8806    0.9135    1.0000\n",
      "\n",
      "Sample Size Information\n",
      "------------------------------\n",
      "Number of observations used: 4\n",
      "\n",
      "Correlation method: Pearson\n",
      "\n"
     ]
    }
   ],
   "source": [
    "/* Demo 5: PROC CORR - Correlation Analysis */\n",
    "proc corr data=work.employees;\n",
    "    var salary age experience performance_score;\n",
    "run;\n"
   ]
  },
  {
   "cell_type": "markdown",
   "metadata": {},
   "source": [
    "## 🔍 PROC FACTOR: Principal Component Analysis\n",
    "\n",
    "PROC FACTOR performs principal component analysis and factor analysis for dimensionality reduction and data exploration.\n",
    "\n",
    "### Key Features:\n",
    "- **Principal Components**: Identify key dimensions in your data\n",
    "- **Eigenvalue Analysis**: Determine number of components to retain\n",
    "- **Component Loadings**: Understand variable contributions\n",
    "- **Variance Explained**: See how much variance each component captures"
   ]
  },
  {
   "cell_type": "code",
   "execution_count": 1,
   "metadata": {
    "language": "statlang"
   },
   "outputs": [
    {
     "name": "stdout",
     "output_type": "stream",
     "text": [
      "Principal Component Analysis\n",
      "----------------------------------------\n",
      "\n",
      "Eigenvalues and Variance Explained\n",
      "----------------------------------------\n",
      "Component    Eigenvalue   Proportion   Cumulative  \n",
      "--------------------------------------------------\n",
      "1            4.0962       0.9217       0.9217      \n",
      "2            0.2466       0.0555       0.9771      \n",
      "3            0.0872       0.0196       0.9968      \n",
      "4            0.0144       0.0032       1.0000      \n",
      "\n",
      "Component Loadings (Eigenvectors)\n",
      "----------------------------------------\n",
      "Variable         Comp1     Comp2     Comp3     Comp4\n",
      "----------------------------------------------------\n",
      "salary          0.4887    0.6730   -0.4793    0.2801\n",
      "age             0.5026   -0.4637   -0.4666   -0.5610\n",
      "experience      0.5041   -0.4913    0.2189    0.6757\n",
      "performance_    0.5045    0.3009    0.7104   -0.3876\n",
      "\n",
      "Kaiser criterion (eigenvalue > 1): 1 components\n",
      "\n"
     ]
    }
   ],
   "source": [
    "/* Demo 6: PROC FACTOR - Principal Component Analysis */\n",
    "proc factor data=work.employees method=pca nfactors=3;\n",
    "    var salary age experience performance_score;\n",
    "run;\n"
   ]
  },
  {
   "cell_type": "markdown",
   "metadata": {},
   "source": [
    "## 🎯 PROC CLUSTER: Clustering Analysis\n",
    "\n",
    "PROC CLUSTER performs various clustering algorithms to group similar observations together.\n",
    "\n",
    "### Key Features:\n",
    "- **K-means Clustering**: Partition data into K clusters\n",
    "- **Hierarchical Clustering**: Build cluster trees and dendrograms  \n",
    "- **HDBSCAN**: Density-based clustering for complex shapes\n",
    "- **Cluster Validation**: Assess clustering quality and stability"
   ]
  },
  {
   "cell_type": "code",
   "execution_count": 1,
   "metadata": {
    "language": "statlang"
   },
   "outputs": [
    {
     "name": "stdout",
     "output_type": "stream",
     "text": [
      "K-Means Clustering Results\n",
      "----------------------------------------\n",
      "\n",
      "Cluster Sizes\n",
      "--------------------\n",
      "Cluster 0: 3 observations\n",
      "Cluster 1: 5 observations\n",
      "Cluster 2: 2 observations\n",
      "\n",
      "Cluster Centroids\n",
      "------------------------------\n",
      "Variable        Cluster0    Cluster1    Cluster2\n",
      "------------------------------------------------\n",
      "salary           -1.1374      0.0887      1.4842\n",
      "age              -0.9794     -0.0663      1.6348\n",
      "experience       -0.9959     -0.0321      1.5741\n",
      "performance_     -1.1826      0.0989      1.5267\n",
      "\n",
      "Model Statistics\n",
      "--------------------\n",
      "Within-cluster sum of squares: 6.5873\n",
      "Number of iterations: 2\n",
      "\n"
     ]
    }
   ],
   "source": [
    "/* Demo 7: PROC CLUSTER - K-means Clustering */\n",
    "proc cluster data=work.employees method=kmeans nclusters=3;\n",
    "    var salary age experience performance_score;\n",
    "run;\n"
   ]
  },
  {
   "cell_type": "markdown",
   "metadata": {},
   "source": [
    "## 📈 PROC NPAR1WAY: Nonparametric Tests\n",
    "\n",
    "PROC NPAR1WAY performs nonparametric tests for comparing groups without assuming normal distributions.\n",
    "\n",
    "### Key Features:\n",
    "- **Mann-Whitney U Test**: Compare two independent groups\n",
    "- **Kruskal-Wallis Test**: Compare multiple groups\n",
    "- **Rank-based Analysis**: Works with any distribution shape\n",
    "- **Post-hoc Comparisons**: Identify which groups differ significantly"
   ]
  },
  {
   "cell_type": "code",
   "execution_count": 1,
   "metadata": {
    "language": "statlang"
   },
   "outputs": [
    {
     "name": "stdout",
     "output_type": "stream",
     "text": [
      "PROC NPAR1WAY - Nonparametric One-Way Analysis\n",
      "============================================================\n",
      "Class variable: department\n",
      "Test type: WILCOXON\n",
      "\n",
      "Variable: salary\n",
      "--------------------------------------------------\n",
      "Summary Statistics by Group\n",
      "----------------------------------------\n",
      "Group           N        Mean         Median       Std Dev     \n",
      "-----------------------------------------------------------------\n",
      "Engineering     4        77500.0000   77500.0000   6454.9722   \n",
      "Marketing       3        58000.0000   59000.0000   2645.7513   \n",
      "Sales           2        47500.0000   47500.0000   3535.5339   \n",
      "HR              1        62000.0000   62000.0000   nan         \n",
      "\n",
      "Kruskal-Wallis Test\n",
      "------------------------------\n",
      "Groups: Engineering, Marketing, Sales, HR\n",
      "Sample sizes: [4, 3, 2, 1]\n",
      "\n",
      "Test Statistics\n",
      "--------------------\n",
      "H statistic: 8.1818\n",
      "Degrees of freedom: 3\n",
      "p-value: 0.042400\n",
      "Effect size (eta²): 0.8636\n",
      "\n",
      "Conclusion: p < 0.05 (significant)\n",
      "Note: Significant difference detected. Consider post-hoc pairwise comparisons.\n",
      "\n",
      "\n"
     ]
    },
    {
     "name": "stderr",
     "output_type": "stream",
     "text": [
      "/opt/anaconda3/lib/python3.12/site-packages/numpy/core/_methods.py:206: RuntimeWarning: Degrees of freedom <= 0 for slice\n",
      "  ret = _var(a, axis=axis, dtype=dtype, out=out, ddof=ddof,\n",
      "/opt/anaconda3/lib/python3.12/site-packages/numpy/core/_methods.py:198: RuntimeWarning: invalid value encountered in scalar divide\n",
      "  ret = ret.dtype.type(ret / rcount)\n"
     ]
    }
   ],
   "source": [
    "/* Demo 8: PROC NPAR1WAY - Nonparametric Tests */\n",
    "proc npar1way data=work.employees;\n",
    "    class department;\n",
    "    var salary;\n",
    "run;\n"
   ]
  },
  {
   "cell_type": "markdown",
   "metadata": {},
   "source": [
    "## 📊 PROC TTEST: T-Tests\n",
    "\n",
    "PROC TTEST performs various t-tests for comparing means between groups.\n",
    "\n",
    "### Key Features:\n",
    "- **Independent Samples**: Compare means between two groups\n",
    "- **Paired Samples**: Compare means for related observations\n",
    "- **One-sample Tests**: Test if mean differs from specified value\n",
    "- **Equal/Unequal Variances**: Welch's t-test for unequal variances"
   ]
  },
  {
   "cell_type": "code",
   "execution_count": 1,
   "metadata": {
    "language": "statlang"
   },
   "outputs": [
    {
     "name": "stdout",
     "output_type": "stream",
     "text": [
      "PROC TTEST - T-Test Analysis\n",
      "==================================================\n",
      "Test type: INDEPENDENT\n",
      "\n",
      "Variable: salary\n",
      "--------------------------------------------------\n",
      "Independent Samples T-Test\n",
      "\n",
      "Group Statistics\n",
      "------------------------------\n",
      "Group           N        Mean         Std Dev      Std Error   \n",
      "-----------------------------------------------------------------\n",
      "1.0             5        60400.0000   12778.8888   5714.8928   \n",
      "0.0             5        67800.0000   13663.8208   6110.6464   \n",
      "\n",
      "Levene's Test for Equality of Variances\n",
      "---------------------------------------------\n",
      "F statistic: 0.0011\n",
      "p-value: 0.973800\n",
      "\n",
      "T-Test Results\n",
      "--------------------\n",
      "Test                      t          df       p-value      Mean Diff   \n",
      "---------------------------------------------------------------------------\n",
      "Equal variances           -0.8845    8        0.402242     -7400.0000  \n",
      "Unequal variances         -0.8845    8.0      0.402354     -7400.0000  \n",
      "\n",
      "Effect size (Cohen's d): -0.5594\n",
      "\n",
      "Recommended test: Equal variances (Student's t-test)\n",
      "Conclusion: p >= 0.05 (not significant)\n",
      "\n",
      "\n"
     ]
    }
   ],
   "source": [
    "/* Demo 9: PROC TTEST - Independent Samples T-Test */\n",
    "proc ttest data=work.employees;\n",
    "    class remote;\n",
    "    var salary;\n",
    "run;\n"
   ]
  },
  {
   "cell_type": "markdown",
   "metadata": {},
   "source": [
    "## 📈 PROC LOGIT: Logistic Regression\n",
    "\n",
    "PROC LOGIT performs logistic regression for modeling binary and categorical outcomes.\n",
    "\n",
    "### Key Features:\n",
    "- **Binary Logistic Regression**: Model yes/no outcomes\n",
    "- **Odds Ratios**: Interpretable effect measures\n",
    "- **Model Diagnostics**: Assess model fit and assumptions\n",
    "- **Statistical Significance**: P-values and confidence intervals"
   ]
  },
  {
   "cell_type": "code",
   "execution_count": 1,
   "metadata": {
    "language": "statlang"
   },
   "outputs": [
    {
     "name": "stdout",
     "output_type": "stream",
     "text": [
      "PROC LOGIT - Logistic Regression Analysis\n",
      "============================================================\n",
      "Dependent variable: remote\n",
      "Independent variables: salary, age, experience\n",
      "Link function: logit\n",
      "\n",
      "Model Information\n",
      "------------------------------\n",
      "Link function: logit\n",
      "Number of observations: 10\n",
      "Number of parameters: 4\n",
      "\n",
      "Model Fit Statistics\n",
      "------------------------------\n",
      "Log-likelihood: 0.0000\n",
      "AIC: 8.0000\n",
      "BIC: 9.2103\n",
      "Pseudo R-squared: 1.0000\n",
      "\n",
      "Parameter Estimates\n",
      "------------------------------\n",
      "Variable        Estimate     Std Err      Z          P>|Z|      [95% Conf. Interval]     \n",
      "-----------------------------------------------------------------------------------------------\n",
      "const           -12724.7374  nan          nan        nan        [nan     , nan     ]\n",
      "salary          0.0144       46042382739508512.0000 0.0000     1.0000     [-90241411931845312.0000, 90241411931845312.0000]\n",
      "age             553.6437     152192623354228736000.0000 0.0000     1.0000     [-298292060486957858816.0000, 298292060486957858816.0000]\n",
      "experience      -985.8240    nan          nan        nan        [nan     , nan     ]\n",
      "\n",
      "Odds Ratios\n",
      "--------------------\n",
      "Variable        Odds Ratio   [95% Conf. Interval]     \n",
      "-------------------------------------------------------\n",
      "salary          1.0145       [0.0000  , inf     ]\n",
      "age             2782373326469488653583518536293228738209385239505963127750675954795547389625677958744346449204258181914212220279915020627014309146869641728743925531283895954640676428547442711750477758739116018171246902058295072610302487059715338627924885504.0000 [0.0000  , inf     ]\n",
      "experience      0.0000       [nan     , nan     ]\n",
      "\n",
      "Model Significance\n",
      "-------------------------\n",
      "Likelihood ratio test: 13.8629\n",
      "Chi-square p-value: 0.003098\n",
      "Conclusion: p < 0.01 (very significant)\n",
      "\n"
     ]
    },
    {
     "name": "stderr",
     "output_type": "stream",
     "text": [
      "/opt/anaconda3/lib/python3.12/site-packages/statsmodels/discrete/discrete_model.py:2385: RuntimeWarning: overflow encountered in exp\n",
      "  return 1/(1+np.exp(-X))\n",
      "/opt/anaconda3/lib/python3.12/site-packages/statsmodels/discrete/discrete_model.py:227: PerfectSeparationWarning: Perfect separation or prediction detected, parameter may not be identified\n",
      "  warnings.warn(msg, category=PerfectSeparationWarning)\n",
      "/opt/anaconda3/lib/python3.12/site-packages/statsmodels/discrete/discrete_model.py:227: PerfectSeparationWarning: Perfect separation or prediction detected, parameter may not be identified\n",
      "  warnings.warn(msg, category=PerfectSeparationWarning)\n",
      "/opt/anaconda3/lib/python3.12/site-packages/statsmodels/discrete/discrete_model.py:227: PerfectSeparationWarning: Perfect separation or prediction detected, parameter may not be identified\n",
      "  warnings.warn(msg, category=PerfectSeparationWarning)\n",
      "/opt/anaconda3/lib/python3.12/site-packages/statsmodels/discrete/discrete_model.py:227: PerfectSeparationWarning: Perfect separation or prediction detected, parameter may not be identified\n",
      "  warnings.warn(msg, category=PerfectSeparationWarning)\n",
      "/opt/anaconda3/lib/python3.12/site-packages/statsmodels/discrete/discrete_model.py:227: PerfectSeparationWarning: Perfect separation or prediction detected, parameter may not be identified\n",
      "  warnings.warn(msg, category=PerfectSeparationWarning)\n",
      "/Users/rs255/My Technologies/Open-SAS/stat_lang/procs/proc_logit.py:189: FutureWarning: Series.__getitem__ treating keys as positions is deprecated. In a future version, integer keys will always be treated as labels (consistent with DataFrame behavior). To access a value by position, use `ser.iloc[pos]`\n",
      "  coef = model.params[i]\n",
      "/Users/rs255/My Technologies/Open-SAS/stat_lang/procs/proc_logit.py:190: FutureWarning: Series.__getitem__ treating keys as positions is deprecated. In a future version, integer keys will always be treated as labels (consistent with DataFrame behavior). To access a value by position, use `ser.iloc[pos]`\n",
      "  std_err = model.bse[i]\n",
      "/Users/rs255/My Technologies/Open-SAS/stat_lang/procs/proc_logit.py:191: FutureWarning: Series.__getitem__ treating keys as positions is deprecated. In a future version, integer keys will always be treated as labels (consistent with DataFrame behavior). To access a value by position, use `ser.iloc[pos]`\n",
      "  z_stat = model.tvalues[i]\n",
      "/Users/rs255/My Technologies/Open-SAS/stat_lang/procs/proc_logit.py:192: FutureWarning: Series.__getitem__ treating keys as positions is deprecated. In a future version, integer keys will always be treated as labels (consistent with DataFrame behavior). To access a value by position, use `ser.iloc[pos]`\n",
      "  p_value = model.pvalues[i]\n",
      "/Users/rs255/My Technologies/Open-SAS/stat_lang/procs/proc_logit.py:189: FutureWarning: Series.__getitem__ treating keys as positions is deprecated. In a future version, integer keys will always be treated as labels (consistent with DataFrame behavior). To access a value by position, use `ser.iloc[pos]`\n",
      "  coef = model.params[i]\n",
      "/Users/rs255/My Technologies/Open-SAS/stat_lang/procs/proc_logit.py:190: FutureWarning: Series.__getitem__ treating keys as positions is deprecated. In a future version, integer keys will always be treated as labels (consistent with DataFrame behavior). To access a value by position, use `ser.iloc[pos]`\n",
      "  std_err = model.bse[i]\n",
      "/Users/rs255/My Technologies/Open-SAS/stat_lang/procs/proc_logit.py:191: FutureWarning: Series.__getitem__ treating keys as positions is deprecated. In a future version, integer keys will always be treated as labels (consistent with DataFrame behavior). To access a value by position, use `ser.iloc[pos]`\n",
      "  z_stat = model.tvalues[i]\n",
      "/Users/rs255/My Technologies/Open-SAS/stat_lang/procs/proc_logit.py:211: FutureWarning: Series.__getitem__ treating keys as positions is deprecated. In a future version, integer keys will always be treated as labels (consistent with DataFrame behavior). To access a value by position, use `ser.iloc[pos]`\n",
      "  coef = model.params[i]\n",
      "/Users/rs255/My Technologies/Open-SAS/stat_lang/procs/proc_logit.py:217: RuntimeWarning: overflow encountered in exp\n",
      "  or_ci_upper = np.exp(ci_upper)\n",
      "/Users/rs255/My Technologies/Open-SAS/stat_lang/procs/proc_logit.py:250: FutureWarning: Series.__getitem__ treating keys as positions is deprecated. In a future version, integer keys will always be treated as labels (consistent with DataFrame behavior). To access a value by position, use `ser.iloc[pos]`\n",
      "  'Coefficient': model.params[i],\n",
      "/Users/rs255/My Technologies/Open-SAS/stat_lang/procs/proc_logit.py:251: FutureWarning: Series.__getitem__ treating keys as positions is deprecated. In a future version, integer keys will always be treated as labels (consistent with DataFrame behavior). To access a value by position, use `ser.iloc[pos]`\n",
      "  'Std_Error': model.bse[i],\n",
      "/Users/rs255/My Technologies/Open-SAS/stat_lang/procs/proc_logit.py:252: FutureWarning: Series.__getitem__ treating keys as positions is deprecated. In a future version, integer keys will always be treated as labels (consistent with DataFrame behavior). To access a value by position, use `ser.iloc[pos]`\n",
      "  'Z_Statistic': model.tvalues[i],\n",
      "/Users/rs255/My Technologies/Open-SAS/stat_lang/procs/proc_logit.py:253: FutureWarning: Series.__getitem__ treating keys as positions is deprecated. In a future version, integer keys will always be treated as labels (consistent with DataFrame behavior). To access a value by position, use `ser.iloc[pos]`\n",
      "  'P_Value': model.pvalues[i],\n",
      "/Users/rs255/My Technologies/Open-SAS/stat_lang/procs/proc_logit.py:256: FutureWarning: Series.__getitem__ treating keys as positions is deprecated. In a future version, integer keys will always be treated as labels (consistent with DataFrame behavior). To access a value by position, use `ser.iloc[pos]`\n",
      "  'Odds_Ratio': np.exp(model.params[i]) if var != 'const' else np.nan,\n",
      "/Users/rs255/My Technologies/Open-SAS/stat_lang/procs/proc_logit.py:258: RuntimeWarning: overflow encountered in exp\n",
      "  'OR_CI_Upper': np.exp(model.conf_int().iloc[i, 1]) if var != 'const' else np.nan\n"
     ]
    }
   ],
   "source": [
    "/* Demo 10: PROC LOGIT - Logistic Regression */\n",
    "proc logit data=work.employees;\n",
    "    model remote = salary age experience;\n",
    "run;\n"
   ]
  },
  {
   "cell_type": "markdown",
   "metadata": {},
   "source": [
    "## 📊 PROC FREQ: Chi-square Tests\n",
    "\n",
    "PROC FREQ creates cross-tabulations and performs chi-square tests for categorical data analysis.\n",
    "\n",
    "### Key Features:\n",
    "- **Cross-tabulations**: Two-way frequency tables\n",
    "- **Chi-square Tests**: Test for independence between variables\n",
    "- **Expected Frequencies**: Compare observed vs expected counts\n",
    "- **Effect Size Measures**: Cramér's V and other association measures"
   ]
  },
  {
   "cell_type": "code",
   "execution_count": 1,
   "metadata": {
    "language": "statlang"
   },
   "outputs": [
    {
     "name": "stdout",
     "output_type": "stream",
     "text": [
      "PROC FREQ - Cross-tabulation: department * satisfaction\n",
      "Options: chisq\n",
      "==================================================\n",
      "\n",
      "department      | High | Low | Medium | Total\n",
      "---------------------------------------------\n",
      "Engineering     | 3    | 0   | 1      | 4    \n",
      "HR              | 0    | 0   | 1      | 1    \n",
      "Marketing       | 2    | 0   | 1      | 3    \n",
      "Sales           | 0    | 2   | 0      | 2    \n",
      "Total           | 5    | 2   | 3      | 10   \n",
      "\n",
      "Statistics:\n",
      "  Engineering: 4 (40.0%)\n",
      "  HR: 1 (10.0%)\n",
      "  Marketing: 3 (30.0%)\n",
      "  Sales: 2 (20.0%)\n",
      "\n",
      "Chi-Square Test of Independence\n",
      "----------------------------------------\n",
      "Chi-square statistic: 12.4444\n",
      "Degrees of freedom: 6\n",
      "p-value: 0.052757\n",
      "\n",
      "Expected Frequencies\n",
      "-------------------------\n",
      "Minimum expected frequency: 0.20\n",
      "Warning: Some expected frequencies are less than 5.\n",
      "\n",
      "Effect size (Cramér's V): 0.7888\n",
      "\n",
      "Conclusion: p >= 0.05 (not significant)\n",
      "No significant association between variables.\n",
      "\n"
     ]
    }
   ],
   "source": [
    "/* Demo 11: Enhanced PROC FREQ - Chi-square Tests */\n",
    "proc freq data=work.employees;\n",
    "    tables department*satisfaction / chisq;\n",
    "run;\n"
   ]
  },
  {
   "cell_type": "markdown",
   "metadata": {},
   "source": [
    "## 📈 PROC TIMESERIES: Time Series Analysis\n",
    "\n",
    "PROC TIMESERIES performs time series analysis including decomposition and ARIMA modeling.\n",
    "\n",
    "### Key Features:\n",
    "- **Seasonal Decomposition**: Separate trend, seasonal, and residual components\n",
    "- **ARIMA Modeling**: Fit autoregressive integrated moving average models\n",
    "- **ACF/PACF Plots**: Identify model parameters\n",
    "- **Forecasting**: Predict future values with confidence intervals"
   ]
  },
  {
   "cell_type": "code",
   "execution_count": 1,
   "metadata": {
    "language": "statlang"
   },
   "outputs": [
    {
     "name": "stdout",
     "output_type": "stream",
     "text": [
      "Saved dataset work.sales to library work\n"
     ]
    },
    {
     "data": {
      "text/html": [
       "\n",
       "        <div class=\"statlang-dataset\" style=\"margin: 10px 0; border: 1px solid #ddd; border-radius: 4px; padding: 10px;\">\n",
       "            <h4 style=\"margin: 0 0 10px 0; color: #333;\">Dataset: work.sales</h4>\n",
       "            <p style=\"margin: 0 0 10px 0; color: #666; font-size: 0.9em;\">\n",
       "                24 observations, 4 variables\n",
       "            </p>\n",
       "        \n",
       "            <table style=\"border-collapse: collapse; width: 100%; font-size: 0.9em;\">\n",
       "                <thead>\n",
       "                    <tr style=\"background-color: #f5f5f5;\">\n",
       "            <th style=\"border: 1px solid #ddd; padding: 8px; text-align: left;\">date</th><th style=\"border: 1px solid #ddd; padding: 8px; text-align: left;\">sales</th><th style=\"border: 1px solid #ddd; padding: 8px; text-align: left;\">marketing_spend</th><th style=\"border: 1px solid #ddd; padding: 8px; text-align: left;\">seasonality</th>\n",
       "                    </tr>\n",
       "                </thead>\n",
       "                <tbody>\n",
       "            <tr><td style=\"border: 1px solid #ddd; padding: 8px;\">2020-01-01</td><td style=\"border: 1px solid #ddd; padding: 8px;\">1000.0</td><td style=\"border: 1px solid #ddd; padding: 8px;\">5000.0</td><td style=\"border: 1px solid #ddd; padding: 8px;\">0.0</td></tr><tr><td style=\"border: 1px solid #ddd; padding: 8px;\">2020-02-01</td><td style=\"border: 1px solid #ddd; padding: 8px;\">1100.0</td><td style=\"border: 1px solid #ddd; padding: 8px;\">5200.0</td><td style=\"border: 1px solid #ddd; padding: 8px;\">50.0</td></tr><tr><td style=\"border: 1px solid #ddd; padding: 8px;\">2020-03-01</td><td style=\"border: 1px solid #ddd; padding: 8px;\">1200.0</td><td style=\"border: 1px solid #ddd; padding: 8px;\">4800.0</td><td style=\"border: 1px solid #ddd; padding: 8px;\">87.0</td></tr><tr><td style=\"border: 1px solid #ddd; padding: 8px;\">2020-04-01</td><td style=\"border: 1px solid #ddd; padding: 8px;\">1300.0</td><td style=\"border: 1px solid #ddd; padding: 8px;\">5500.0</td><td style=\"border: 1px solid #ddd; padding: 8px;\">100.0</td></tr><tr><td style=\"border: 1px solid #ddd; padding: 8px;\">2020-05-01</td><td style=\"border: 1px solid #ddd; padding: 8px;\">1250.0</td><td style=\"border: 1px solid #ddd; padding: 8px;\">5100.0</td><td style=\"border: 1px solid #ddd; padding: 8px;\">87.0</td></tr>\n",
       "                </tbody>\n",
       "            </table>\n",
       "            </div>"
      ],
      "text/plain": [
       "Dataset: work.sales (24 obs, 4 vars)"
      ]
     },
     "metadata": {},
     "output_type": "display_data"
    }
   ],
   "source": [
    "/* First, create time series data */\n",
    "data work.sales;\n",
    "    input date $ sales marketing_spend seasonality;\n",
    "    datalines;\n",
    "2020-01-01 1000 5000 0\n",
    "2020-02-01 1100 5200 50\n",
    "2020-03-01 1200 4800 87\n",
    "2020-04-01 1300 5500 100\n",
    "2020-05-01 1250 5100 87\n",
    "2020-06-01 1400 5300 50\n",
    "2020-07-01 1350 4900 0\n",
    "2020-08-01 1500 5600 -50\n",
    "2020-09-01 1450 5200 -87\n",
    "2020-10-01 1600 5400 -100\n",
    "2020-11-01 1550 5000 -87\n",
    "2020-12-01 1700 5800 -50\n",
    "2021-01-01 1050 5100 0\n",
    "2021-02-01 1150 5300 50\n",
    "2021-03-01 1250 4900 87\n",
    "2021-04-01 1350 5600 100\n",
    "2021-05-01 1300 5200 87\n",
    "2021-06-01 1450 5400 50\n",
    "2021-07-01 1400 5000 0\n",
    "2021-08-01 1550 5700 -50\n",
    "2021-09-01 1500 5300 -87\n",
    "2021-10-01 1650 5500 -100\n",
    "2021-11-01 1600 5100 -87\n",
    "2021-12-01 1750 5900 -50\n",
    ";\n",
    "run;\n"
   ]
  },
  {
   "cell_type": "code",
   "execution_count": 1,
   "metadata": {
    "language": "statlang"
   },
   "outputs": [
    {
     "name": "stdout",
     "output_type": "stream",
     "text": [
      "PROC TIMESERIES - Time Series Analysis\n",
      "==================================================\n",
      "Analysis type: DECOMPOSE\n",
      "\n",
      "Variable: sales\n",
      "--------------------------------------------------\n",
      "Seasonal Decomposition\n",
      "\n",
      "Component Summary Statistics\n",
      "----------------------------------------\n",
      "Component       Mean         Std Dev      Min          Max         \n",
      "-----------------------------------------------------------------\n",
      "Original        1391.6667    205.1864     1000.0000    1750.0000   \n",
      "Trend           1391.6667    15.0231      1368.7500    1414.5833   \n",
      "Seasonal        -0.0000      189.3886     -343.7500    310.4167    \n",
      "Residual        0.0000       0.0000       0.0000       0.0000      \n",
      "\n",
      "Variance Explained\n",
      "-------------------------\n",
      "Trend: 0.5%\n",
      "Seasonal: 85.2%\n",
      "Residual: 0.0%\n",
      "\n",
      "\n"
     ]
    }
   ],
   "source": [
    "/* Demo 12: PROC TIMESERIES - Seasonal Decomposition */\n",
    "proc timeseries data=work.sales type=decompose;\n",
    "    var sales;\n",
    "    time date;\n",
    "run;\n"
   ]
  },
  {
   "cell_type": "markdown",
   "metadata": {},
   "source": [
    "## 🌳 PROC TREE: Decision Trees\n",
    "\n",
    "PROC TREE builds decision trees for classification and regression tasks.\n",
    "\n",
    "### Key Features:\n",
    "- **Classification Trees**: Predict categorical outcomes\n",
    "- **Regression Trees**: Predict continuous outcomes\n",
    "- **Feature Importance**: Identify most important predictors\n",
    "- **Tree Visualization**: Understand decision rules and splits"
   ]
  },
  {
   "cell_type": "code",
   "execution_count": 1,
   "metadata": {
    "language": "statlang"
   },
   "outputs": [
    {
     "name": "stdout",
     "output_type": "stream",
     "text": [
      "PROC TREE - Decision Tree Analysis\n",
      "==================================================\n",
      "Target variable: satisfaction\n",
      "Feature variables: salary, age, experience\n",
      "Max depth: 5\n",
      "\n",
      "Decision Tree Classification Results\n",
      "----------------------------------------\n",
      "Training accuracy: 0.0000\n",
      "Tree depth: 3\n",
      "Number of leaves: 4\n",
      "\n",
      "Feature Importance\n",
      "--------------------\n",
      "experience      0.6863    \n",
      "age             0.3137    \n",
      "salary          0.0000    \n",
      "\n",
      "Classification Report\n",
      "-------------------------\n",
      "No valid classes found in test data for classification report.\n",
      "\n"
     ]
    }
   ],
   "source": [
    "/* Demo 13: PROC TREE - Decision Tree Classification */\n",
    "proc tree data=work.employees maxdepth=3;\n",
    "    model satisfaction = salary age experience;\n",
    "run;\n"
   ]
  },
  {
   "cell_type": "markdown",
   "metadata": {},
   "source": [
    "## 🌲 PROC FOREST: Random Forests\n",
    "\n",
    "PROC FOREST builds random forest ensembles for improved prediction accuracy.\n",
    "\n",
    "### Key Features:\n",
    "- **Ensemble Learning**: Combine multiple decision trees\n",
    "- **Bootstrap Aggregating**: Reduce overfitting with bagging\n",
    "- **Feature Sampling**: Random feature selection at each split\n",
    "- **Out-of-bag Error**: Estimate generalization performance"
   ]
  },
  {
   "cell_type": "code",
   "execution_count": 1,
   "metadata": {
    "language": "statlang"
   },
   "outputs": [
    {
     "name": "stdout",
     "output_type": "stream",
     "text": [
      "PROC FOREST - Random Forest Analysis\n",
      "==================================================\n",
      "Target variable: satisfaction\n",
      "Feature variables: salary, age, experience\n",
      "Number of trees: 100\n",
      "\n",
      "Random Forest Classification Results\n",
      "----------------------------------------\n",
      "Training accuracy: 0.0000\n",
      "Out-of-bag score: 0.5000\n",
      "Number of trees: 100\n",
      "\n",
      "Feature Importance\n",
      "--------------------\n",
      "salary          0.3787    \n",
      "experience      0.3258    \n",
      "age             0.2955    \n",
      "\n"
     ]
    }
   ],
   "source": [
    "/* Demo 14: PROC FOREST - Random Forest Classification */\n",
    "proc forest data=work.employees ntrees=50;\n",
    "    model satisfaction = salary age experience;\n",
    "run;\n"
   ]
  },
  {
   "cell_type": "markdown",
   "metadata": {},
   "source": [
    "## 🚀 PROC BOOST: Gradient Boosting\n",
    "\n",
    "PROC BOOST performs gradient boosting for high-performance predictive modeling.\n",
    "\n",
    "### Key Features:\n",
    "- **Sequential Learning**: Each tree corrects errors of previous trees\n",
    "- **Gradient Descent**: Optimize loss function iteratively\n",
    "- **Feature Importance**: Identify key predictive variables\n",
    "- **High Performance**: Often achieves best-in-class accuracy"
   ]
  },
  {
   "cell_type": "code",
   "execution_count": 1,
   "metadata": {
    "language": "statlang"
   },
   "outputs": [
    {
     "name": "stdout",
     "output_type": "stream",
     "text": [
      "PROC BOOST - Gradient Boosting Analysis\n",
      "==================================================\n",
      "Target variable: satisfaction\n",
      "Feature variables: salary, age, experience\n",
      "Number of estimators: 100\n",
      "Learning rate: 0.1\n",
      "\n",
      "Gradient Boosting Classification Results\n",
      "---------------------------------------------\n",
      "Training accuracy: 0.0000\n",
      "Number of estimators: 100\n",
      "Learning rate: 0.1\n",
      "\n",
      "Feature Importance\n",
      "--------------------\n",
      "experience      0.4030    \n",
      "salary          0.3760    \n",
      "age             0.2210    \n",
      "\n"
     ]
    }
   ],
   "source": [
    "/* Demo 15: PROC BOOST - Gradient Boosting */\n",
    "proc boost data=work.employees ntrees=50 learningrate=0.1;\n",
    "    model satisfaction = salary age experience;\n",
    "run;\n"
   ]
  },
  {
   "cell_type": "markdown",
   "metadata": {},
   "source": [
    "## 🤖 PROC LANGUAGE: Built-in LLM Integration\n",
    "\n",
    "PROC LANGUAGE integrates large language models for AI-powered text analysis and generation.\n",
    "\n",
    "### Key Features:\n",
    "- **Built-in LLM**: Uses Hugging Face transformers with distilgpt2 model\n",
    "- **No Setup Required**: Works out of the box with pip install\n",
    "- **Multiple Modes**: Text generation, Q&A, summarization, analysis\n",
    "- **Data Integration**: Analyze datasets with natural language queries"
   ]
  },
  {
   "cell_type": "code",
   "execution_count": 1,
   "metadata": {
    "language": "statlang"
   },
   "outputs": [
    {
     "name": "stderr",
     "output_type": "stream",
     "text": [
      "Truncation was not explicitly activated but `max_length` is provided a specific value, please use `truncation=True` to explicitly truncate examples to max length. Defaulting to 'longest_first' truncation strategy. If you encode pairs of sequences (GLUE-style) with the tokenizer you can select this strategy more precisely by providing a specific strategy to `truncation`.\n"
     ]
    },
    {
     "name": "stdout",
     "output_type": "stream",
     "text": [
      "PROC LANGUAGE - LLM Analysis\n",
      "==================================================\n",
      "Model: distilgpt2\n",
      "Mode: GENERATE\n",
      "\n",
      "Text Generation\n",
      "--------------------\n",
      "Prompt: What is the meaning of life?\n",
      "\n",
      "Generated Text:\n",
      "I have a problem with the idea of being a person – I feel like I'm not a person, but I feel as if that's what I want to be.\n",
      "At the same time, I feel that I\n",
      "\n"
     ]
    }
   ],
   "source": [
    "/* Demo 16: PROC LANGUAGE - Built-in LLM Integration */\n",
    "proc language prompt='What is the meaning of life?';\n",
    "run;\n"
   ]
  },
  {
   "cell_type": "markdown",
   "metadata": {},
   "source": [
    "### Additional PROC LANGUAGE Examples\n",
    "\n",
    "PROC LANGUAGE supports multiple modes for different AI tasks:\n",
    "\n",
    "**Model**: Uses `distilgpt2` - a lightweight, fast transformer model from Hugging Face\n",
    "**Modes Available**:\n",
    "- `generate` (default): Text generation and completion\n",
    "- `qna`: Question & Answer with optional context\n",
    "- `summarize`: Text summarization\n",
    "- `analyze`: Text analysis and insights\n"
   ]
  },
  {
   "cell_type": "code",
   "execution_count": 1,
   "metadata": {
    "language": "statlang"
   },
   "outputs": [
    {
     "name": "stdout",
     "output_type": "stream",
     "text": [
      "PROC LANGUAGE - LLM Analysis\n",
      "==================================================\n",
      "Model: distilgpt2\n",
      "Mode: GENERATE\n",
      "\n",
      "Text Generation\n",
      "--------------------\n",
      "Prompt: The future of artificial intelligence is\n",
      "\n",
      "Generated Text:\n",
      "set for 20 years. It is the most important step for human machines that will make it possible to develop artificial intelligence.\n",
      "\n"
     ]
    }
   ],
   "source": [
    "/* Text Generation Mode */\n",
    "proc language mode=generate prompt='The future of artificial intelligence is';\n",
    "run;\n"
   ]
  },
  {
   "cell_type": "code",
   "execution_count": 1,
   "metadata": {
    "language": "statlang"
   },
   "outputs": [
    {
     "name": "stdout",
     "output_type": "stream",
     "text": [
      "PROC LANGUAGE - LLM Analysis\n",
      "==================================================\n",
      "Model: distilgpt2\n",
      "Mode: QNA\n",
      "\n",
      "Question & Answer\n",
      "--------------------\n",
      "Question: What is machine learning?\n",
      "\n",
      "Answer: Machine learning is a new field of research. It has been a long time since I was a student. I was a student\n",
      "\n"
     ]
    }
   ],
   "source": [
    "/* Question & Answer Mode */\n",
    "proc language mode=qna prompt='What is machine learning?' context='Machine learning is a subset of artificial intelligence that focuses on algorithms';\n",
    "run;\n"
   ]
  },
  {
   "cell_type": "code",
   "execution_count": 1,
   "metadata": {
    "language": "statlang"
   },
   "outputs": [
    {
     "name": "stdout",
     "output_type": "stream",
     "text": [
      "PROC LANGUAGE - LLM Analysis\n",
      "==================================================\n",
      "Model: distilgpt2\n",
      "Mode: SUMMARIZE\n",
      "\n",
      "Text Summarization\n",
      "--------------------\n",
      "Original text: Machine learning is a subset of artificial intelligence that focuses on algorithms and statistical m...\n",
      "\n",
      "Summary: The machine learning approach is a subset of artificial intelligence\n",
      "\n"
     ]
    }
   ],
   "source": [
    "/* Text Summarization Mode */\n",
    "proc language mode=summarize prompt='Machine learning is a subset of artificial intelligence that focuses on algorithms and statistical models that enable computer systems to improve their performance on a specific task through experience. It involves training models on data to make predictions or decisions without being explicitly programmed for every scenario';\n",
    "run;\n"
   ]
  },
  {
   "cell_type": "code",
   "execution_count": 1,
   "metadata": {
    "language": "statlang"
   },
   "outputs": [
    {
     "name": "stdout",
     "output_type": "stream",
     "text": [
      "PROC LANGUAGE - LLM Analysis\n",
      "==================================================\n",
      "Model: distilgpt2\n",
      "Mode: ANALYZE\n",
      "\n",
      "Text Analysis\n",
      "--------------------\n",
      "Text: The rapid advancement of artificial intelligence has transformed many industries, from healthcare to...\n",
      "\n",
      "Analysis: We have seen a number of technological advances in the past few decades, but the rapid technological advances in the past few decades have not only increased the value\n",
      "\n"
     ]
    }
   ],
   "source": [
    "/* Text Analysis Mode */\n",
    "proc language mode=analyze prompt='The rapid advancement of artificial intelligence has transformed many industries, from healthcare to finance, creating both opportunities and challenges for businesses and society';\n",
    "run;\n"
   ]
  },
  {
   "cell_type": "code",
   "execution_count": 1,
   "metadata": {
    "language": "statlang"
   },
   "outputs": [
    {
     "name": "stdout",
     "output_type": "stream",
     "text": [
      "PROC LANGUAGE - LLM Analysis\n",
      "==================================================\n",
      "Model: distilgpt2\n",
      "Mode: ANALYZE\n",
      "\n",
      "Text Analysis\n",
      "--------------------\n",
      "Text: Analyze the employee dataset and provide insights about salary patterns\n",
      "\n",
      "Analysis: Analyze the employee dataset and provide insights about salary patterns\n",
      "Analyze the employee dataset and provide insights about salary patterns\n",
      "Analyze the employee dataset and provide\n",
      "\n"
     ]
    }
   ],
   "source": [
    "/* Data Analysis Mode with VAR specification */\n",
    "proc language mode=analyze prompt='Analyze the employee dataset and provide insights about salary patterns';\n",
    "run;\n"
   ]
  },
  {
   "cell_type": "markdown",
   "metadata": {},
   "source": [
    "## 🗃️ PROC SQL: SQL Query Processing\n",
    "\n",
    "PROC SQL provides powerful SQL query capabilities using DuckDB for fast, in-memory SQL operations.\n",
    "\n",
    "### Key Features:\n",
    "- **DuckDB Backend**: Fast, in-memory SQL processing\n",
    "- **Automatic Dataset Registration**: All datasets available as SQL tables\n",
    "- **Standard SQL Syntax**: SELECT, FROM, WHERE, GROUP BY, ORDER BY, JOIN\n",
    "- **CREATE TABLE**: Create new datasets from query results"
   ]
  },
  {
   "cell_type": "code",
   "execution_count": 1,
   "metadata": {
    "language": "statlang"
   },
   "outputs": [
    {
     "name": "stdout",
     "output_type": "stream",
     "text": [
      "PROC SQL - SQL Query Processing\n",
      "==================================================\n",
      "Backend: DuckDB\n",
      "\n",
      "Statement 1:\n",
      "--------------------\n",
      "select avg(sales) as avg_sales, avg(marketing_spend) as avg_marketing from work_sales where seasonality > 0\n",
      "\n",
      "Query Results:\n",
      "Rows: 1, Columns: 2\n",
      "\n",
      "avg_sales | avg_marketing\n",
      "-------------------------\n",
      "1275.0    | 5230.0       \n",
      "\n"
     ]
    }
   ],
   "source": [
    "/* Demo 17: PROC SQL - Basic SELECT Query */\n",
    "proc sql;\n",
    "    select avg(sales) as avg_sales, avg(marketing_spend) as avg_marketing\n",
    "    from work_sales\n",
    "    where seasonality > 0\n",
    "run;\n"
   ]
  },
  {
   "cell_type": "code",
   "execution_count": 1,
   "metadata": {
    "language": "statlang"
   },
   "outputs": [
    {
     "name": "stdout",
     "output_type": "stream",
     "text": [
      "PROC SQL - SQL Query Processing\n",
      "==================================================\n",
      "Backend: DuckDB\n",
      "\n",
      "Statement 1:\n",
      "--------------------\n",
      "create table work_summary as select avg(sales) as avg_sales, avg(marketing_spend) as avg_marketing, count(*) as count from work_sales\n",
      "\n",
      "Created table: work_summary\n",
      "Rows: 1, Columns: 3\n",
      "\n",
      "avg_sales          | avg_marketing | count\n",
      "------------------------------------------\n",
      "1391.6666666666667 | 5283.333333333333 | 24.0 \n",
      "\n"
     ]
    },
    {
     "data": {
      "text/html": [
       "\n",
       "        <div class=\"statlang-dataset\" style=\"margin: 10px 0; border: 1px solid #ddd; border-radius: 4px; padding: 10px;\">\n",
       "            <h4 style=\"margin: 0 0 10px 0; color: #333;\">Dataset: work_summary</h4>\n",
       "            <p style=\"margin: 0 0 10px 0; color: #666; font-size: 0.9em;\">\n",
       "                1 observations, 3 variables\n",
       "            </p>\n",
       "        \n",
       "            <table style=\"border-collapse: collapse; width: 100%; font-size: 0.9em;\">\n",
       "                <thead>\n",
       "                    <tr style=\"background-color: #f5f5f5;\">\n",
       "            <th style=\"border: 1px solid #ddd; padding: 8px; text-align: left;\">avg_sales</th><th style=\"border: 1px solid #ddd; padding: 8px; text-align: left;\">avg_marketing</th><th style=\"border: 1px solid #ddd; padding: 8px; text-align: left;\">count</th>\n",
       "                    </tr>\n",
       "                </thead>\n",
       "                <tbody>\n",
       "            <tr><td style=\"border: 1px solid #ddd; padding: 8px;\">1391.6666666666667</td><td style=\"border: 1px solid #ddd; padding: 8px;\">5283.333333333333</td><td style=\"border: 1px solid #ddd; padding: 8px;\">24</td></tr>\n",
       "                </tbody>\n",
       "            </table>\n",
       "            </div>"
      ],
      "text/plain": [
       "Dataset: work_summary (1 obs, 3 vars)"
      ]
     },
     "metadata": {},
     "output_type": "display_data"
    }
   ],
   "source": [
    "/* CREATE TABLE with Aggregation */\n",
    "proc sql;\n",
    "    create table work_summary as\n",
    "    select avg(sales) as avg_sales, \n",
    "           avg(marketing_spend) as avg_marketing,\n",
    "           count(*) as count\n",
    "    from work_sales\n",
    "run;\n"
   ]
  },
  {
   "cell_type": "code",
   "execution_count": 1,
   "metadata": {
    "language": "statlang"
   },
   "outputs": [
    {
     "name": "stdout",
     "output_type": "stream",
     "text": [
      "PROC SQL - SQL Query Processing\n",
      "==================================================\n",
      "Backend: DuckDB\n",
      "\n",
      "Statement 1:\n",
      "--------------------\n",
      "select e.name, e.department, e.salary, s.avg_sales from work_employees e cross join work_summary s where e.salary > 60000 order by e.salary desc\n",
      "\n",
      "Query Results:\n",
      "Rows: 5, Columns: 4\n",
      "\n",
      "name  | department  | salary  | avg_sales         \n",
      "--------------------------------------------------\n",
      "Henry | Engineering | 85000.0 | 1391.6666666666667\n",
      "Carol | Engineering | 80000.0 | 1391.6666666666667\n",
      "Alice | Engineering | 75000.0 | 1391.6666666666667\n",
      "Eve   | Engineering | 70000.0 | 1391.6666666666667\n",
      "Irene | HR          | 62000.0 | 1391.6666666666667\n",
      "\n"
     ]
    }
   ],
   "source": [
    "/* Complex Query with JOIN */\n",
    "proc sql;\n",
    "    select e.name, e.department, e.salary, s.avg_sales\n",
    "    from work_employees e\n",
    "    cross join work_summary s\n",
    "    where e.salary > 60000\n",
    "    order by e.salary desc\n",
    "run;\n"
   ]
  },
  {
   "cell_type": "markdown",
   "metadata": {},
   "source": [
    "### PROC SQL Features:\n",
    "\n",
    "✅ **DuckDB Backend**: Fast, in-memory SQL processing  \n",
    "✅ **Automatic Dataset Registration**: All datasets available as SQL tables  \n",
    "✅ **Standard SQL Syntax**: SELECT, FROM, WHERE, GROUP BY, ORDER BY, JOIN  \n",
    "✅ **CREATE TABLE**: Create new datasets from query results  \n",
    "✅ **Multi-statement Support**: Multiple SQL statements in one PROC  \n",
    "✅ **Flattened Naming**: `work.sales` becomes `work_sales` for SQL access  \n",
    "\n",
    "**Supported SQL Operations:**\n",
    "- SELECT queries with aggregation\n",
    "- CREATE TABLE AS SELECT\n",
    "- JOINs (INNER, LEFT, RIGHT, FULL, CROSS)\n",
    "- WHERE conditions and filtering\n",
    "- GROUP BY and ORDER BY\n",
    "- Subqueries and complex expressions\n",
    "\n",
    "**Example Dataset Structure:**\n",
    "- `work.sales`: `date`, `sales`, `marketing_spend`, `seasonality`\n",
    "- `work.employees`: `employee_id`, `name`, `department`, `salary`, `age`, `experience`, `performance_score`, `satisfaction`, `remote`\n"
   ]
  },
  {
   "cell_type": "markdown",
   "metadata": {},
   "source": [
    "## 📈 PROC MEANS: Descriptive Statistics\n",
    "\n",
    "PROC MEANS provides comprehensive descriptive statistics for numeric variables. It's perfect for understanding the central tendency, variability, and distribution of your data.\n",
    "\n",
    "### Key Features:\n",
    "- **Comprehensive Statistics**: Mean, median, standard deviation, min/max, quartiles\n",
    "- **CLASS Variables**: Group statistics by categorical variables  \n",
    "- **Multiple Variables**: Analyze several variables simultaneously\n",
    "- **Customizable Output**: Control which statistics are displayed\n"
   ]
  },
  {
   "cell_type": "code",
   "execution_count": 1,
   "metadata": {
    "language": "statlang"
   },
   "outputs": [
    {
     "name": "stdout",
     "output_type": "stream",
     "text": [
      "PROC MEANS - Grouped Analysis\n",
      "==================================================\n",
      "Analysis Variables: salary\n",
      "Grouping Variables: department\n",
      "\n",
      "department  | salary_count | salary_mean | salary_std         | salary_min | salary_max\n",
      "---------------------------------------------------------------------------------------\n",
      "Engineering | 4            | 77500.0     | 6454.972243679028  | 70000.0    | 85000.0   \n",
      "HR          | 1            | 62000.0     | nan                | 62000.0    | 62000.0   \n",
      "Marketing   | 3            | 58000.0     | 2645.7513110645905 | 55000.0    | 60000.0   \n",
      "Sales       | 2            | 47500.0     | 3535.5339059327375 | 45000.0    | 50000.0   \n"
     ]
    }
   ],
   "source": [
    "/* Demo 2: Basic Descriptive Statistics */\n",
    "proc means data=work.employees;\n",
    "    var salary;\n",
    "    class department;\n",
    "run;\n"
   ]
  },
  {
   "cell_type": "markdown",
   "metadata": {},
   "source": [
    "## 📊 PROC FREQ: Frequency Analysis\n",
    "\n",
    "PROC FREQ creates frequency tables and performs statistical tests on categorical data. It's essential for understanding the distribution of categorical variables and testing associations.\n",
    "\n",
    "### Key Features:\n",
    "- **Frequency Tables**: Count and percentage distributions\n",
    "- **Cross-tabulations**: Two-way frequency tables\n",
    "- **Chi-square Tests**: Test for independence between categorical variables\n",
    "- **Missing Data Handling**: Control how missing values are treated\n"
   ]
  },
  {
   "cell_type": "code",
   "execution_count": 1,
   "metadata": {
    "language": "statlang"
   },
   "outputs": [
    {
     "name": "stdout",
     "output_type": "stream",
     "text": [
      "PROC FREQ - Frequency Table for department\n",
      "==================================================\n",
      "\n",
      "Value                Frequency    Percent    Cumulative Percent\n",
      "------------------------------------------------------------\n",
      "Engineering          4            40.0       40.0              \n",
      "HR                   1            10.0       50.0              \n",
      "Marketing            3            30.0       80.0              \n",
      "Sales                2            20.0       100.0             \n",
      "------------------------------------------------------------\n",
      "Total                10           100.0      100.0             \n"
     ]
    }
   ],
   "source": [
    "/* Demo 3: Frequency Analysis */\n",
    "proc freq data=work.employees;\n",
    "    tables department;\n",
    "run;\n"
   ]
  },
  {
   "cell_type": "code",
   "execution_count": 1,
   "metadata": {
    "language": "statlang"
   },
   "outputs": [
    {
     "name": "stdout",
     "output_type": "stream",
     "text": [
      "Evaluating IFN expression: ifn(salary > 70000, 'High', ifn(salary > 55000, 'Medium', 'Low'))\n",
      "IFN parsed - condition: salary > 70000, true: High, false: ifn(salary > 55000, 'Medium', 'Low'\n",
      "Condition result: 0     True\n",
      "1    False\n",
      "2     True\n",
      "3    False\n",
      "4    False\n",
      "5    False\n",
      "6    False\n",
      "7     True\n",
      "8    False\n",
      "9    False\n",
      "Name: salary, dtype: bool\n",
      "Handling nested IFN\n",
      "Nested IFN - cond2: salary > 55000, val2: Medium, val3: Low\n",
      "Final IFN result: 0      High\n",
      "1       Low\n",
      "2      High\n",
      "3       Low\n",
      "4    Medium\n",
      "5    Medium\n",
      "6       Low\n",
      "7      High\n",
      "8    Medium\n",
      "9    Medium\n",
      "dtype: object\n",
      "Saved dataset work.enhanced_employees to library work\n"
     ]
    },
    {
     "data": {
      "text/html": [
       "\n",
       "        <div class=\"statlang-dataset\" style=\"margin: 10px 0; border: 1px solid #ddd; border-radius: 4px; padding: 10px;\">\n",
       "            <h4 style=\"margin: 0 0 10px 0; color: #333;\">Dataset: work.enhanced_employees</h4>\n",
       "            <p style=\"margin: 0 0 10px 0; color: #666; font-size: 0.9em;\">\n",
       "                10 observations, 12 variables\n",
       "            </p>\n",
       "        \n",
       "            <table style=\"border-collapse: collapse; width: 100%; font-size: 0.9em;\">\n",
       "                <thead>\n",
       "                    <tr style=\"background-color: #f5f5f5;\">\n",
       "            <th style=\"border: 1px solid #ddd; padding: 8px; text-align: left;\">employee_id</th><th style=\"border: 1px solid #ddd; padding: 8px; text-align: left;\">name</th><th style=\"border: 1px solid #ddd; padding: 8px; text-align: left;\">department</th><th style=\"border: 1px solid #ddd; padding: 8px; text-align: left;\">salary</th><th style=\"border: 1px solid #ddd; padding: 8px; text-align: left;\">age</th><th style=\"border: 1px solid #ddd; padding: 8px; text-align: left;\">experience</th><th style=\"border: 1px solid #ddd; padding: 8px; text-align: left;\">performance_score</th><th style=\"border: 1px solid #ddd; padding: 8px; text-align: left;\">satisfaction</th><th style=\"border: 1px solid #ddd; padding: 8px; text-align: left;\">remote</th><th style=\"border: 1px solid #ddd; padding: 8px; text-align: left;\">salary_category</th><th style=\"border: 1px solid #ddd; padding: 8px; text-align: left;\">annual_bonus</th><th style=\"border: 1px solid #ddd; padding: 8px; text-align: left;\">total_compensation</th>\n",
       "                    </tr>\n",
       "                </thead>\n",
       "                <tbody>\n",
       "            <tr><td style=\"border: 1px solid #ddd; padding: 8px;\">1.0</td><td style=\"border: 1px solid #ddd; padding: 8px;\">Alice</td><td style=\"border: 1px solid #ddd; padding: 8px;\">Engineering</td><td style=\"border: 1px solid #ddd; padding: 8px;\">75000.0</td><td style=\"border: 1px solid #ddd; padding: 8px;\">30.0</td><td style=\"border: 1px solid #ddd; padding: 8px;\">5.0</td><td style=\"border: 1px solid #ddd; padding: 8px;\">8.5</td><td style=\"border: 1px solid #ddd; padding: 8px;\">High</td><td style=\"border: 1px solid #ddd; padding: 8px;\">1.0</td><td style=\"border: 1px solid #ddd; padding: 8px;\">High</td><td style=\"border: 1px solid #ddd; padding: 8px;\">7500.0</td><td style=\"border: 1px solid #ddd; padding: 8px;\">82500.0</td></tr><tr><td style=\"border: 1px solid #ddd; padding: 8px;\">2.0</td><td style=\"border: 1px solid #ddd; padding: 8px;\">Bob</td><td style=\"border: 1px solid #ddd; padding: 8px;\">Marketing</td><td style=\"border: 1px solid #ddd; padding: 8px;\">55000.0</td><td style=\"border: 1px solid #ddd; padding: 8px;\">25.0</td><td style=\"border: 1px solid #ddd; padding: 8px;\">2.0</td><td style=\"border: 1px solid #ddd; padding: 8px;\">7.2</td><td style=\"border: 1px solid #ddd; padding: 8px;\">Medium</td><td style=\"border: 1px solid #ddd; padding: 8px;\">0.0</td><td style=\"border: 1px solid #ddd; padding: 8px;\">Low</td><td style=\"border: 1px solid #ddd; padding: 8px;\">5500.0</td><td style=\"border: 1px solid #ddd; padding: 8px;\">60500.0</td></tr><tr><td style=\"border: 1px solid #ddd; padding: 8px;\">3.0</td><td style=\"border: 1px solid #ddd; padding: 8px;\">Carol</td><td style=\"border: 1px solid #ddd; padding: 8px;\">Engineering</td><td style=\"border: 1px solid #ddd; padding: 8px;\">80000.0</td><td style=\"border: 1px solid #ddd; padding: 8px;\">35.0</td><td style=\"border: 1px solid #ddd; padding: 8px;\">8.0</td><td style=\"border: 1px solid #ddd; padding: 8px;\">9.1</td><td style=\"border: 1px solid #ddd; padding: 8px;\">High</td><td style=\"border: 1px solid #ddd; padding: 8px;\">0.0</td><td style=\"border: 1px solid #ddd; padding: 8px;\">High</td><td style=\"border: 1px solid #ddd; padding: 8px;\">8000.0</td><td style=\"border: 1px solid #ddd; padding: 8px;\">88000.0</td></tr><tr><td style=\"border: 1px solid #ddd; padding: 8px;\">4.0</td><td style=\"border: 1px solid #ddd; padding: 8px;\">David</td><td style=\"border: 1px solid #ddd; padding: 8px;\">Sales</td><td style=\"border: 1px solid #ddd; padding: 8px;\">45000.0</td><td style=\"border: 1px solid #ddd; padding: 8px;\">28.0</td><td style=\"border: 1px solid #ddd; padding: 8px;\">3.0</td><td style=\"border: 1px solid #ddd; padding: 8px;\">6.8</td><td style=\"border: 1px solid #ddd; padding: 8px;\">Low</td><td style=\"border: 1px solid #ddd; padding: 8px;\">1.0</td><td style=\"border: 1px solid #ddd; padding: 8px;\">Low</td><td style=\"border: 1px solid #ddd; padding: 8px;\">4500.0</td><td style=\"border: 1px solid #ddd; padding: 8px;\">49500.0</td></tr><tr><td style=\"border: 1px solid #ddd; padding: 8px;\">5.0</td><td style=\"border: 1px solid #ddd; padding: 8px;\">Eve</td><td style=\"border: 1px solid #ddd; padding: 8px;\">Engineering</td><td style=\"border: 1px solid #ddd; padding: 8px;\">70000.0</td><td style=\"border: 1px solid #ddd; padding: 8px;\">32.0</td><td style=\"border: 1px solid #ddd; padding: 8px;\">6.0</td><td style=\"border: 1px solid #ddd; padding: 8px;\">7.8</td><td style=\"border: 1px solid #ddd; padding: 8px;\">Medium</td><td style=\"border: 1px solid #ddd; padding: 8px;\">1.0</td><td style=\"border: 1px solid #ddd; padding: 8px;\">Medium</td><td style=\"border: 1px solid #ddd; padding: 8px;\">7000.0</td><td style=\"border: 1px solid #ddd; padding: 8px;\">77000.0</td></tr>\n",
       "                </tbody>\n",
       "            </table>\n",
       "            </div>"
      ],
      "text/plain": [
       "Dataset: work.enhanced_employees (10 obs, 12 vars)"
      ]
     },
     "metadata": {},
     "output_type": "display_data"
    }
   ],
   "source": [
    "/* Demo 5: Data Manipulation - Create New Variables */\n",
    "data work.enhanced_employees;\n",
    "    set work.employees;\n",
    "    salary_category = ifn(salary > 70000, 'High', ifn(salary > 55000, 'Medium', 'Low'));\n",
    "    annual_bonus = salary * 0.1;\n",
    "    total_compensation = salary + annual_bonus;\n",
    "run;\n"
   ]
  },
  {
   "cell_type": "code",
   "execution_count": 1,
   "metadata": {
    "language": "statlang"
   },
   "outputs": [
    {
     "name": "stdout",
     "output_type": "stream",
     "text": [
      "PROC PRINT - Dataset Contents\n",
      "==================================================\n",
      "Observations: 10\n",
      "Variables: 12\n",
      "\n",
      "employee_id | name     | department  | salary   | age      | experience | performance_score | satisfaction | remote   | salary_category | annual_bonus | total_compensation\n",
      "---------------------------------------------------------------------------------------------------------------------------------------------------------------------------\n",
      "1.0         | Alice    | Engineering | 75000.0  | 30.0     | 5.0        | 8.5               | High         | 1.0      | High            | 7500.0       | 82500.0           \n",
      "2.0         | Bob      | Marketing   | 55000.0  | 25.0     | 2.0        | 7.2               | Medium       | 0.0      | Low             | 5500.0       | 60500.0           \n",
      "3.0         | Carol    | Engineering | 80000.0  | 35.0     | 8.0        | 9.1               | High         | 0.0      | High            | 8000.0       | 88000.0           \n",
      "4.0         | David    | Sales       | 45000.0  | 28.0     | 3.0        | 6.8               | Low          | 1.0      | Low             | 4500.0       | 49500.0           \n",
      "5.0         | Eve      | Engineering | 70000.0  | 32.0     | 6.0        | 7.8               | Medium       | 1.0      | Medium          | 7000.0       | 77000.0           \n",
      "6.0         | Frank    | Marketing   | 60000.0  | 27.0     | 4.0        | 8.0               | High         | 0.0      | Medium          | 6000.0       | 66000.0           \n",
      "7.0         | Grace    | Sales       | 50000.0  | 24.0     | 1.0        | 6.5               | Low          | 1.0      | Low             | 5000.0       | 55000.0           \n",
      "8.0         | Henry    | Engineering | 85000.0  | 40.0     | 12.0       | 9.5               | High         | 0.0      | High            | 8500.0       | 93500.0           \n",
      "9.0         | Irene    | HR          | 62000.0  | 29.0     | 3.0        | 7.5               | Medium       | 1.0      | Medium          | 6200.0       | 68200.0           \n",
      "10.0        | Jack     | Marketing   | 59000.0  | 31.0     | 7.0        | 8.2               | High         | 0.0      | Medium          | 5900.0       | 64900.0           \n"
     ]
    }
   ],
   "source": [
    "/* Demo 6: Display Enhanced Dataset */\n",
    "proc print data=work.enhanced_employees;\n",
    "run;\n"
   ]
  },
  {
   "cell_type": "code",
   "execution_count": 1,
   "metadata": {
    "language": "statlang"
   },
   "outputs": [
    {
     "name": "stdout",
     "output_type": "stream",
     "text": [
      "Saved dataset work.high_earners to library work\n"
     ]
    },
    {
     "data": {
      "text/html": [
       "\n",
       "        <div class=\"statlang-dataset\" style=\"margin: 10px 0; border: 1px solid #ddd; border-radius: 4px; padding: 10px;\">\n",
       "            <h4 style=\"margin: 0 0 10px 0; color: #333;\">Dataset: work.high_earners</h4>\n",
       "            <p style=\"margin: 0 0 10px 0; color: #666; font-size: 0.9em;\">\n",
       "                3 observations, 12 variables\n",
       "            </p>\n",
       "        \n",
       "            <table style=\"border-collapse: collapse; width: 100%; font-size: 0.9em;\">\n",
       "                <thead>\n",
       "                    <tr style=\"background-color: #f5f5f5;\">\n",
       "            <th style=\"border: 1px solid #ddd; padding: 8px; text-align: left;\">employee_id</th><th style=\"border: 1px solid #ddd; padding: 8px; text-align: left;\">name</th><th style=\"border: 1px solid #ddd; padding: 8px; text-align: left;\">department</th><th style=\"border: 1px solid #ddd; padding: 8px; text-align: left;\">salary</th><th style=\"border: 1px solid #ddd; padding: 8px; text-align: left;\">age</th><th style=\"border: 1px solid #ddd; padding: 8px; text-align: left;\">experience</th><th style=\"border: 1px solid #ddd; padding: 8px; text-align: left;\">performance_score</th><th style=\"border: 1px solid #ddd; padding: 8px; text-align: left;\">satisfaction</th><th style=\"border: 1px solid #ddd; padding: 8px; text-align: left;\">remote</th><th style=\"border: 1px solid #ddd; padding: 8px; text-align: left;\">salary_category</th><th style=\"border: 1px solid #ddd; padding: 8px; text-align: left;\">annual_bonus</th><th style=\"border: 1px solid #ddd; padding: 8px; text-align: left;\">total_compensation</th>\n",
       "                    </tr>\n",
       "                </thead>\n",
       "                <tbody>\n",
       "            <tr><td style=\"border: 1px solid #ddd; padding: 8px;\">1.0</td><td style=\"border: 1px solid #ddd; padding: 8px;\">Alice</td><td style=\"border: 1px solid #ddd; padding: 8px;\">Engineering</td><td style=\"border: 1px solid #ddd; padding: 8px;\">75000.0</td><td style=\"border: 1px solid #ddd; padding: 8px;\">30.0</td><td style=\"border: 1px solid #ddd; padding: 8px;\">5.0</td><td style=\"border: 1px solid #ddd; padding: 8px;\">8.5</td><td style=\"border: 1px solid #ddd; padding: 8px;\">High</td><td style=\"border: 1px solid #ddd; padding: 8px;\">1.0</td><td style=\"border: 1px solid #ddd; padding: 8px;\">High</td><td style=\"border: 1px solid #ddd; padding: 8px;\">7500.0</td><td style=\"border: 1px solid #ddd; padding: 8px;\">82500.0</td></tr><tr><td style=\"border: 1px solid #ddd; padding: 8px;\">3.0</td><td style=\"border: 1px solid #ddd; padding: 8px;\">Carol</td><td style=\"border: 1px solid #ddd; padding: 8px;\">Engineering</td><td style=\"border: 1px solid #ddd; padding: 8px;\">80000.0</td><td style=\"border: 1px solid #ddd; padding: 8px;\">35.0</td><td style=\"border: 1px solid #ddd; padding: 8px;\">8.0</td><td style=\"border: 1px solid #ddd; padding: 8px;\">9.1</td><td style=\"border: 1px solid #ddd; padding: 8px;\">High</td><td style=\"border: 1px solid #ddd; padding: 8px;\">0.0</td><td style=\"border: 1px solid #ddd; padding: 8px;\">High</td><td style=\"border: 1px solid #ddd; padding: 8px;\">8000.0</td><td style=\"border: 1px solid #ddd; padding: 8px;\">88000.0</td></tr><tr><td style=\"border: 1px solid #ddd; padding: 8px;\">8.0</td><td style=\"border: 1px solid #ddd; padding: 8px;\">Henry</td><td style=\"border: 1px solid #ddd; padding: 8px;\">Engineering</td><td style=\"border: 1px solid #ddd; padding: 8px;\">85000.0</td><td style=\"border: 1px solid #ddd; padding: 8px;\">40.0</td><td style=\"border: 1px solid #ddd; padding: 8px;\">12.0</td><td style=\"border: 1px solid #ddd; padding: 8px;\">9.5</td><td style=\"border: 1px solid #ddd; padding: 8px;\">High</td><td style=\"border: 1px solid #ddd; padding: 8px;\">0.0</td><td style=\"border: 1px solid #ddd; padding: 8px;\">High</td><td style=\"border: 1px solid #ddd; padding: 8px;\">8500.0</td><td style=\"border: 1px solid #ddd; padding: 8px;\">93500.0</td></tr>\n",
       "                </tbody>\n",
       "            </table>\n",
       "            </div>"
      ],
      "text/plain": [
       "Dataset: work.high_earners (3 obs, 12 vars)"
      ]
     },
     "metadata": {},
     "output_type": "display_data"
    }
   ],
   "source": [
    "/* Demo 7: Conditional Processing - WHERE Clause */\n",
    "data work.high_earners;\n",
    "    set work.enhanced_employees;\n",
    "    where salary > 70000;\n",
    "run;\n"
   ]
  },
  {
   "cell_type": "code",
   "execution_count": 1,
   "metadata": {
    "language": "statlang"
   },
   "outputs": [
    {
     "name": "stdout",
     "output_type": "stream",
     "text": [
      "PROC PRINT - Dataset Contents\n",
      "==================================================\n",
      "Observations: 3\n",
      "Variables: 12\n",
      "\n",
      "employee_id | name     | department  | salary   | age      | experience | performance_score | satisfaction | remote   | salary_category | annual_bonus | total_compensation\n",
      "---------------------------------------------------------------------------------------------------------------------------------------------------------------------------\n",
      "1.0         | Alice    | Engineering | 75000.0  | 30.0     | 5.0        | 8.5               | High         | 1.0      | High            | 7500.0       | 82500.0           \n",
      "3.0         | Carol    | Engineering | 80000.0  | 35.0     | 8.0        | 9.1               | High         | 0.0      | High            | 8000.0       | 88000.0           \n",
      "8.0         | Henry    | Engineering | 85000.0  | 40.0     | 12.0       | 9.5               | High         | 0.0      | High            | 8500.0       | 93500.0           \n"
     ]
    }
   ],
   "source": [
    "/* Demo 8: Display Filtered Results */\n",
    "proc print data=work.high_earners;\n",
    "run;\n"
   ]
  },
  {
   "cell_type": "code",
   "execution_count": 1,
   "metadata": {
    "language": "statlang"
   },
   "outputs": [
    {
     "name": "stdout",
     "output_type": "stream",
     "text": [
      "PROC SORT - Dataset Sorted\n",
      "==================================================\n",
      "BY Variables: department (ASC), salary (DESC)\n",
      "Observations: 10\n",
      "\n"
     ]
    }
   ],
   "source": [
    "/* Demo 9: PROC SORT - Sort Data */\n",
    "proc sort data=work.enhanced_employees;\n",
    "    by department descending salary;\n",
    "run;\n"
   ]
  },
  {
   "cell_type": "markdown",
   "metadata": {},
   "source": [
    "## StatLang v2.0 New Statistical Procedures\n",
    "\n",
    "The following sections demonstrate the powerful new statistical procedures added in v2.0:\n"
   ]
  },
  {
   "cell_type": "markdown",
   "metadata": {},
   "source": [
    "### PROC UNIVARIATE - Distribution Diagnostics\n",
    "\n",
    "PROC UNIVARIATE provides comprehensive univariate analysis including descriptive statistics, distribution shape, and normality tests.\n"
   ]
  },
  {
   "cell_type": "code",
   "execution_count": 1,
   "metadata": {
    "language": "statlang"
   },
   "outputs": [
    {
     "name": "stdout",
     "output_type": "stream",
     "text": [
      "PROC UNIVARIATE - Univariate Analysis\n",
      "==================================================\n",
      "\n",
      "Variable: salary\n",
      "----------------------------------------\n",
      "Moments\n",
      "  N                                  10\n",
      "  Mean                       64100.000000\n",
      "  Std Deviation              13067.772062\n",
      "  Variance                   170766666.666667\n",
      "  Skewness                     0.205420\n",
      "  Uncorrected SS             42625000000.000000\n",
      "  Corrected SS               1536900000.000000\n",
      "  Coeff Variation             20.386540\n",
      "\n",
      "Basic Statistical Measures\n",
      "  Location                    Variability\n",
      "  Mean      64100.000000     Std Deviation     13067.772062\n",
      "  Median    61000.000000     Variance          170766666.666667\n",
      "  Mode      45000.000000     Range             40000.000000\n",
      "                           Interquartile Range 17750.000000\n",
      "\n",
      "Tests for Location: Mu0=0\n",
      "  Test           -Statistic-    -----p Value------\n",
      "  Student's t     15.511596    Pr > |t|      0.000000\n",
      "  Sign                   10    Pr >= |M|     0.000000\n",
      "  Signed Rank            55    Pr >= |S|     1.000000\n",
      "\n",
      "Quantiles (Definition 5)\n",
      "  Level         Quantile\n",
      "    1%        45450.000000\n",
      "    5%        47250.000000\n",
      "   10%        49500.000000\n",
      "   25%        56000.000000\n",
      "   50%        61000.000000\n",
      "   75%        73750.000000\n",
      "   90%        80500.000000\n",
      "   95%        82750.000000\n",
      "   99%        84550.000000\n",
      "\n",
      "Extreme Observations\n",
      "  ----Lowest----        ----Highest---\n",
      "  Value      Obs        Value      Obs\n",
      "  45000.000000       4    85000.000000       8\n",
      "  50000.000000       7    80000.000000       3\n",
      "  55000.000000       2    75000.000000       1\n",
      "  59000.000000      10    70000.000000       5\n",
      "  60000.000000       6    62000.000000       9\n",
      "\n",
      "Variable: age\n",
      "----------------------------------------\n",
      "Moments\n",
      "  N                                  10\n",
      "  Mean                        30.100000\n",
      "  Std Deviation                4.771443\n",
      "  Variance                    22.766667\n",
      "  Skewness                     0.749888\n",
      "  Uncorrected SS             9265.000000\n",
      "  Corrected SS               204.900000\n",
      "  Coeff Variation             15.851970\n",
      "\n",
      "Basic Statistical Measures\n",
      "  Location                    Variability\n",
      "  Mean       30.100000     Std Deviation       4.771443\n",
      "  Median     29.500000     Variance           22.766667\n",
      "  Mode       24.000000     Range              16.000000\n",
      "                           Interquartile Range   4.500000\n",
      "\n",
      "Tests for Location: Mu0=0\n",
      "  Test           -Statistic-    -----p Value------\n",
      "  Student's t     19.948800    Pr > |t|      0.000000\n",
      "  Sign                   10    Pr >= |M|     0.000000\n",
      "  Signed Rank            55    Pr >= |S|     1.000000\n",
      "\n",
      "Quantiles (Definition 5)\n",
      "  Level         Quantile\n",
      "    1%         24.090000\n",
      "    5%         24.450000\n",
      "   10%         24.900000\n",
      "   25%         27.250000\n",
      "   50%         29.500000\n",
      "   75%         31.750000\n",
      "   90%         35.500000\n",
      "   95%         37.750000\n",
      "   99%         39.550000\n",
      "\n",
      "Extreme Observations\n",
      "  ----Lowest----        ----Highest---\n",
      "  Value      Obs        Value      Obs\n",
      "  24.000000       7    40.000000       8\n",
      "  25.000000       2    35.000000       3\n",
      "  27.000000       6    32.000000       5\n",
      "  28.000000       4    31.000000      10\n",
      "  29.000000       9    30.000000       1\n",
      "\n"
     ]
    }
   ],
   "source": [
    "/* PROC UNIVARIATE - Detailed distribution analysis */\n",
    "proc univariate data=work.employees;\n",
    "    var salary age;\n",
    "run;\n"
   ]
  },
  {
   "cell_type": "markdown",
   "metadata": {},
   "source": [
    "### PROC CORR - Correlation Analysis\n",
    "\n",
    "PROC CORR computes correlation matrices with options for Pearson, Spearman, and Kendall correlations.\n"
   ]
  },
  {
   "cell_type": "code",
   "execution_count": 1,
   "metadata": {
    "language": "statlang"
   },
   "outputs": [
    {
     "name": "stdout",
     "output_type": "stream",
     "text": [
      "PROC CORR - Correlation Analysis\n",
      "==================================================\n",
      "Method: Pearson\n",
      "\n",
      "Correlation Matrix\n",
      "----------------------------------------\n",
      "Variable        salary       age\n",
      "--------------------------------\n",
      "salary          1.0000    0.8516\n",
      "age             0.8516    1.0000\n",
      "\n",
      "Sample Size Information\n",
      "------------------------------\n",
      "Number of observations used: 2\n",
      "\n",
      "Correlation method: Pearson\n",
      "\n"
     ]
    }
   ],
   "source": [
    "/* PROC CORR - Correlation analysis */\n",
    "proc corr data=work.employees method=pearson;\n",
    "    var salary age;\n",
    "run;\n"
   ]
  },
  {
   "cell_type": "markdown",
   "metadata": {},
   "source": [
    "### PROC FACTOR - Principal Component Analysis\n",
    "\n",
    "PROC FACTOR performs PCA and factor analysis for dimensionality reduction and exploratory data analysis.\n"
   ]
  },
  {
   "cell_type": "code",
   "execution_count": 1,
   "metadata": {
    "language": "statlang"
   },
   "outputs": [
    {
     "name": "stdout",
     "output_type": "stream",
     "text": [
      "Principal Component Analysis\n",
      "----------------------------------------\n",
      "\n",
      "Eigenvalues and Variance Explained\n",
      "----------------------------------------\n",
      "Component    Eigenvalue   Proportion   Cumulative  \n",
      "--------------------------------------------------\n",
      "1            2.0573       0.9258       0.9258      \n",
      "2            0.1649       0.0742       1.0000      \n",
      "\n",
      "Component Loadings (Eigenvectors)\n",
      "----------------------------------------\n",
      "Variable         Comp1     Comp2\n",
      "--------------------------------\n",
      "salary          0.7071   -0.7071\n",
      "age             0.7071    0.7071\n",
      "\n",
      "Kaiser criterion (eigenvalue > 1): 1 components\n",
      "\n"
     ]
    }
   ],
   "source": [
    "/* PROC FACTOR - Principal Component Analysis */\n",
    "proc factor data=work.employees method=pca nfactors=2;\n",
    "    var salary age;\n",
    "run;\n"
   ]
  },
  {
   "cell_type": "markdown",
   "metadata": {},
   "source": [
    "### PROC CLUSTER - Clustering Analysis\n",
    "\n",
    "PROC CLUSTER provides k-means, hierarchical, and HDBSCAN clustering methods for data segmentation.\n"
   ]
  },
  {
   "cell_type": "code",
   "execution_count": 1,
   "metadata": {
    "language": "statlang"
   },
   "outputs": [
    {
     "name": "stdout",
     "output_type": "stream",
     "text": [
      "K-Means Clustering Results\n",
      "----------------------------------------\n",
      "\n",
      "Cluster Sizes\n",
      "--------------------\n",
      "Cluster 0: 4 observations\n",
      "Cluster 1: 2 observations\n",
      "Cluster 2: 4 observations\n",
      "\n",
      "Cluster Centroids\n",
      "------------------------------\n",
      "Variable        Cluster0    Cluster1    Cluster2\n",
      "------------------------------------------------\n",
      "salary           -0.9357      1.4842      0.1936\n",
      "age              -0.9058      1.6348      0.0884\n",
      "\n",
      "Model Statistics\n",
      "--------------------\n",
      "Within-cluster sum of squares: 3.2843\n",
      "Number of iterations: 3\n",
      "\n"
     ]
    }
   ],
   "source": [
    "/* PROC CLUSTER - K-means clustering */\n",
    "proc cluster data=work.employees method=kmeans nclusters=3;\n",
    "    var salary age;\n",
    "run;\n"
   ]
  },
  {
   "cell_type": "markdown",
   "metadata": {},
   "source": [
    "### PROC NPAR1WAY - Nonparametric Tests\n",
    "\n",
    "PROC NPAR1WAY performs nonparametric tests including Mann-Whitney U test and Kruskal-Wallis test for comparing groups.\n"
   ]
  },
  {
   "cell_type": "code",
   "execution_count": 1,
   "metadata": {
    "language": "statlang"
   },
   "outputs": [
    {
     "name": "stdout",
     "output_type": "stream",
     "text": [
      "PROC NPAR1WAY - Nonparametric One-Way Analysis\n",
      "============================================================\n",
      "Class variable: department\n",
      "Test type: WILCOXON\n",
      "\n",
      "Variable: salary\n",
      "--------------------------------------------------\n",
      "Summary Statistics by Group\n",
      "----------------------------------------\n",
      "Group           N        Mean         Median       Std Dev     \n",
      "-----------------------------------------------------------------\n",
      "Engineering     4        77500.0000   77500.0000   6454.9722   \n",
      "Marketing       3        58000.0000   59000.0000   2645.7513   \n",
      "Sales           2        47500.0000   47500.0000   3535.5339   \n",
      "HR              1        62000.0000   62000.0000   nan         \n",
      "\n",
      "Kruskal-Wallis Test\n",
      "------------------------------\n",
      "Groups: Engineering, Marketing, Sales, HR\n",
      "Sample sizes: [4, 3, 2, 1]\n",
      "\n",
      "Test Statistics\n",
      "--------------------\n",
      "H statistic: 8.1818\n",
      "Degrees of freedom: 3\n",
      "p-value: 0.042400\n",
      "Effect size (eta²): 0.8636\n",
      "\n",
      "Conclusion: p < 0.05 (significant)\n",
      "Note: Significant difference detected. Consider post-hoc pairwise comparisons.\n",
      "\n",
      "\n"
     ]
    },
    {
     "name": "stderr",
     "output_type": "stream",
     "text": [
      "/opt/anaconda3/lib/python3.12/site-packages/numpy/core/_methods.py:206: RuntimeWarning: Degrees of freedom <= 0 for slice\n",
      "  ret = _var(a, axis=axis, dtype=dtype, out=out, ddof=ddof,\n",
      "/opt/anaconda3/lib/python3.12/site-packages/numpy/core/_methods.py:198: RuntimeWarning: invalid value encountered in scalar divide\n",
      "  ret = ret.dtype.type(ret / rcount)\n"
     ]
    }
   ],
   "source": [
    "/* PROC NPAR1WAY - Nonparametric analysis */\n",
    "proc npar1way data=work.employees;\n",
    "    class department;\n",
    "    var salary;\n",
    "run;\n"
   ]
  },
  {
   "cell_type": "markdown",
   "metadata": {},
   "source": [
    "### PROC TTEST - T-Tests\n",
    "\n",
    "PROC TTEST performs independent samples, paired samples, and one-sample t-tests with comprehensive statistical output.\n"
   ]
  },
  {
   "cell_type": "code",
   "execution_count": 1,
   "metadata": {
    "language": "statlang"
   },
   "outputs": [
    {
     "name": "stdout",
     "output_type": "stream",
     "text": [
      "Saved dataset work.employees to library work\n",
      "PROC TTEST - T-Test Analysis\n",
      "==================================================\n",
      "Test type: INDEPENDENT\n",
      "\n",
      "Variable age: CLASS variable must have exactly 2 groups\n",
      "\n"
     ]
    }
   ],
   "source": [
    "/* Create a binary variable for t-test */\n",
    "data work.employees;\n",
    "    set work.employees;\n",
    "    high_salary = (salary > 70000);\n",
    "run;\n",
    "\n",
    "/* PROC TTEST - Independent samples t-test */\n",
    "proc ttest data=work.employees;\n",
    "    class high_salary;\n",
    "    var age;\n",
    "run;\n"
   ]
  },
  {
   "cell_type": "markdown",
   "metadata": {},
   "source": [
    "### PROC LOGIT - Logistic Regression\n",
    "\n",
    "PROC LOGIT performs logistic regression for binary and multinomial outcomes with comprehensive model diagnostics.\n"
   ]
  },
  {
   "cell_type": "code",
   "execution_count": 1,
   "metadata": {
    "language": "statlang"
   },
   "outputs": [
    {
     "name": "stdout",
     "output_type": "stream",
     "text": [
      "PROC LOGIT - Logistic Regression Analysis\n",
      "============================================================\n",
      "Dependent variable: high_salary\n",
      "Independent variables: age\n",
      "Link function: logit\n",
      "\n",
      "ERROR: PROC LOGIT currently supports binary logistic regression only.\n"
     ]
    }
   ],
   "source": [
    "/* PROC LOGIT - Logistic regression */\n",
    "proc logit data=work.employees;\n",
    "    model high_salary = age;\n",
    "run;\n"
   ]
  },
  {
   "cell_type": "markdown",
   "metadata": {},
   "source": [
    "### PROC FREQ Enhanced - Chi-Square Tests\n",
    "\n",
    "Enhanced PROC FREQ now includes Chi-square tests of independence and Fisher's exact test for contingency tables.\n"
   ]
  },
  {
   "cell_type": "code",
   "execution_count": 1,
   "metadata": {
    "language": "statlang"
   },
   "outputs": [
    {
     "name": "stdout",
     "output_type": "stream",
     "text": [
      "PROC FREQ - Cross-tabulation: department * high_salary\n",
      "Options: chisq\n",
      "==================================================\n",
      "\n",
      "department      | 0  | Total\n",
      "----------------------------\n",
      "Engineering     | 4  | 4    \n",
      "HR              | 1  | 1    \n",
      "Marketing       | 3  | 3    \n",
      "Sales           | 2  | 2    \n",
      "Total           | 10 | 10   \n",
      "\n",
      "Statistics:\n",
      "  Engineering: 4 (40.0%)\n",
      "  HR: 1 (10.0%)\n",
      "  Marketing: 3 (30.0%)\n",
      "  Sales: 2 (20.0%)\n",
      "\n",
      "Chi-Square Test of Independence\n",
      "----------------------------------------\n",
      "Chi-square statistic: 0.0000\n",
      "Degrees of freedom: 0\n",
      "p-value: 1.000000\n",
      "\n",
      "Expected Frequencies\n",
      "-------------------------\n",
      "Minimum expected frequency: 1.00\n",
      "Warning: Some expected frequencies are less than 5.\n",
      "\n",
      "Effect size (Cramér's V): nan\n",
      "\n",
      "Conclusion: p >= 0.05 (not significant)\n",
      "No significant association between variables.\n",
      "\n"
     ]
    },
    {
     "name": "stderr",
     "output_type": "stream",
     "text": [
      "/Users/rs255/My Technologies/Open-SAS/stat_lang/procs/proc_freq.py:247: RuntimeWarning: invalid value encountered in divide\n",
      "  cramers_v = np.sqrt(chi2_stat / (n * (min(test_table.shape) - 1)))\n"
     ]
    }
   ],
   "source": [
    "/* PROC FREQ Enhanced - Chi-square test */\n",
    "proc freq data=work.employees;\n",
    "    tables department*high_salary / chisq;\n",
    "run;\n"
   ]
  },
  {
   "cell_type": "markdown",
   "metadata": {},
   "source": [
    "### PROC TIMESERIES - Time Series Analysis\n",
    "\n",
    "PROC TIMESERIES provides seasonal decomposition, ARIMA modeling, and autocorrelation analysis for time series data.\n"
   ]
  },
  {
   "cell_type": "code",
   "execution_count": 1,
   "metadata": {
    "language": "statlang"
   },
   "outputs": [
    {
     "name": "stdout",
     "output_type": "stream",
     "text": [
      "Saved dataset work.sales to library work\n",
      "PROC TIMESERIES - Time Series Analysis\n",
      "==================================================\n",
      "Analysis type: DECOMPOSE\n",
      "\n",
      "Variable sales: Seasonal decomposition failed - x must have 2 complete cycles requires 24 observations. x only has 12 observation(s)\n",
      "\n"
     ]
    }
   ],
   "source": [
    "/* Create time series data */\n",
    "data work.sales;\n",
    "    input month sales marketing_spend;\n",
    "    datalines;\n",
    "1 1000 5000\n",
    "2 1100 5200\n",
    "3 1200 4800\n",
    "4 1300 5500\n",
    "5 1250 5100\n",
    "6 1400 5300\n",
    "7 1350 4900\n",
    "8 1500 5600\n",
    "9 1450 5200\n",
    "10 1600 5400\n",
    "11 1550 5000\n",
    "12 1700 5800\n",
    ";\n",
    "run;\n",
    "\n",
    "/* PROC TIMESERIES - Seasonal decomposition */\n",
    "proc timeseries data=work.sales type=decompose;\n",
    "    var sales;\n",
    "run;\n"
   ]
  },
  {
   "cell_type": "markdown",
   "metadata": {},
   "source": [
    "### PROC TREE - Decision Tree Analysis\n",
    "\n",
    "PROC TREE builds decision trees for classification and regression with feature importance analysis.\n"
   ]
  },
  {
   "cell_type": "code",
   "execution_count": 1,
   "metadata": {
    "language": "statlang"
   },
   "outputs": [
    {
     "name": "stdout",
     "output_type": "stream",
     "text": [
      "PROC TREE - Decision Tree Analysis\n",
      "==================================================\n",
      "Target variable: high_salary\n",
      "Feature variables: age, salary\n",
      "Max depth: 5\n",
      "\n",
      "Decision Tree Classification Results\n",
      "----------------------------------------\n",
      "Training accuracy: 1.0000\n",
      "Tree depth: 0\n",
      "Number of leaves: 1\n",
      "\n",
      "Feature Importance\n",
      "--------------------\n",
      "age             0.0000    \n",
      "salary          0.0000    \n",
      "\n",
      "Classification Report\n",
      "-------------------------\n",
      "Class           Precision  Recall     F1-Score   Support   \n",
      "-------------------------------------------------------\n",
      "0               1.0000     1.0000     1.0000     2         \n",
      "\n"
     ]
    }
   ],
   "source": [
    "/* PROC TREE - Decision tree classification */\n",
    "proc tree data=work.employees maxdepth=3;\n",
    "    model high_salary = age salary;\n",
    "run;\n"
   ]
  },
  {
   "cell_type": "markdown",
   "metadata": {},
   "source": [
    "### PROC FOREST - Random Forest Analysis\n",
    "\n",
    "PROC FOREST builds random forest ensembles for improved prediction accuracy and feature importance.\n"
   ]
  },
  {
   "cell_type": "code",
   "execution_count": 1,
   "metadata": {
    "language": "statlang"
   },
   "outputs": [
    {
     "name": "stdout",
     "output_type": "stream",
     "text": [
      "PROC FOREST - Random Forest Analysis\n",
      "==================================================\n",
      "Target variable: high_salary\n",
      "Feature variables: age, salary\n",
      "Number of trees: 100\n",
      "\n",
      "Random Forest Classification Results\n",
      "----------------------------------------\n",
      "Training accuracy: 1.0000\n",
      "Out-of-bag score: 1.0000\n",
      "Number of trees: 100\n",
      "\n",
      "Feature Importance\n",
      "--------------------\n",
      "age             0.0000    \n",
      "salary          0.0000    \n",
      "\n"
     ]
    }
   ],
   "source": [
    "/* PROC FOREST - Random forest classification */\n",
    "proc forest data=work.employees ntrees=50;\n",
    "    model high_salary = age salary;\n",
    "run;\n"
   ]
  },
  {
   "cell_type": "markdown",
   "metadata": {},
   "source": [
    "### PROC BOOST - Gradient Boosting\n",
    "\n",
    "PROC BOOST implements gradient boosting for powerful ensemble learning with configurable parameters.\n"
   ]
  },
  {
   "cell_type": "code",
   "execution_count": 1,
   "metadata": {
    "language": "statlang"
   },
   "outputs": [
    {
     "name": "stdout",
     "output_type": "stream",
     "text": [
      "ERROR in PROC: y contains 1 class after sample_weight trimmed classes with zero weights, while a minimum of 2 classes are required.\n"
     ]
    }
   ],
   "source": [
    "/* PROC BOOST - Gradient boosting */\n",
    "proc boost data=work.employees ntrees=50 learningrate=0.1;\n",
    "    model high_salary = age salary;\n",
    "run;\n"
   ]
  },
  {
   "cell_type": "markdown",
   "metadata": {},
   "source": [
    "### PROC LANGUAGE - LLM Integration (Experimental)\n",
    "\n",
    "PROC LANGUAGE integrates with Ollama for open-source LLM access, enabling AI-assisted data analysis and text generation.\n",
    "\n",
    "**Note**: Requires Ollama to be installed and running locally. Install from https://ollama.ai/\n"
   ]
  },
  {
   "cell_type": "code",
   "execution_count": 1,
   "metadata": {
    "language": "statlang"
   },
   "outputs": [
    {
     "name": "stdout",
     "output_type": "stream",
     "text": [
      "ERROR: PROMPT specification required for PROC LANGUAGE.\n"
     ]
    }
   ],
   "source": [
    "/* PROC LANGUAGE - Text generation (requires Ollama) */\n",
    "proc language model=llama2 mode=generate;\n",
    "    prompt \"Explain the concept of statistical significance in data analysis\";\n",
    "run;\n"
   ]
  },
  {
   "cell_type": "markdown",
   "metadata": {},
   "source": [
    "## Summary\n",
    "\n",
    "StatLang v2.0 now provides a comprehensive statistical analysis platform with:\n",
    "\n",
    "- **13 Major Procedures**: From basic descriptive statistics to advanced machine learning\n",
    "- **Professional Output**: SAS-inspired formatting with proper statistical interpretation\n",
    "- **Modern Backend**: Python-powered with scikit-learn, statsmodels, and scipy\n",
    "- **Extensible Architecture**: Easy to add new procedures and capabilities\n",
    "- **Open Source**: Free and open-source alternative to proprietary statistical software\n",
    "\n",
    "### Key Advantages:\n",
    "- ✅ **No License Costs**: Completely free to use\n",
    "- ✅ **Cross-Platform**: Works on Windows, macOS, and Linux\n",
    "- ✅ **Jupyter Integration**: Interactive analysis in notebooks\n",
    "- ✅ **VS Code Support**: Syntax highlighting and execution\n",
    "- ✅ **Python Ecosystem**: Access to thousands of Python packages\n",
    "- ✅ **Community Driven**: Open source with active development\n",
    "\n",
    "**Ready for production use in research, education, and data analysis!**\n"
   ]
  },
  {
   "cell_type": "code",
   "execution_count": 1,
   "metadata": {
    "language": "statlang"
   },
   "outputs": [
    {
     "name": "stdout",
     "output_type": "stream",
     "text": [
      "PROC PRINT - Dataset Contents\n",
      "==================================================\n",
      "Observations: 10\n",
      "Variables: 12\n",
      "\n",
      "employee_id | name     | department  | salary   | age      | experience | performance_score | satisfaction | remote   | salary_category | annual_bonus | total_compensation\n",
      "---------------------------------------------------------------------------------------------------------------------------------------------------------------------------\n",
      "8.0         | Henry    | Engineering | 85000.0  | 40.0     | 12.0       | 9.5               | High         | 0.0      | High            | 8500.0       | 93500.0           \n",
      "3.0         | Carol    | Engineering | 80000.0  | 35.0     | 8.0        | 9.1               | High         | 0.0      | High            | 8000.0       | 88000.0           \n",
      "1.0         | Alice    | Engineering | 75000.0  | 30.0     | 5.0        | 8.5               | High         | 1.0      | High            | 7500.0       | 82500.0           \n",
      "5.0         | Eve      | Engineering | 70000.0  | 32.0     | 6.0        | 7.8               | Medium       | 1.0      | Medium          | 7000.0       | 77000.0           \n",
      "9.0         | Irene    | HR          | 62000.0  | 29.0     | 3.0        | 7.5               | Medium       | 1.0      | Medium          | 6200.0       | 68200.0           \n",
      "6.0         | Frank    | Marketing   | 60000.0  | 27.0     | 4.0        | 8.0               | High         | 0.0      | Medium          | 6000.0       | 66000.0           \n",
      "10.0        | Jack     | Marketing   | 59000.0  | 31.0     | 7.0        | 8.2               | High         | 0.0      | Medium          | 5900.0       | 64900.0           \n",
      "2.0         | Bob      | Marketing   | 55000.0  | 25.0     | 2.0        | 7.2               | Medium       | 0.0      | Low             | 5500.0       | 60500.0           \n",
      "7.0         | Grace    | Sales       | 50000.0  | 24.0     | 1.0        | 6.5               | Low          | 1.0      | Low             | 5000.0       | 55000.0           \n",
      "4.0         | David    | Sales       | 45000.0  | 28.0     | 3.0        | 6.8               | Low          | 1.0      | Low             | 4500.0       | 49500.0           \n"
     ]
    }
   ],
   "source": [
    "/* Demo 10: Display Sorted Data */\n",
    "proc print data=work.enhanced_employees;\n",
    "run;\n"
   ]
  },
  {
   "cell_type": "code",
   "execution_count": 1,
   "metadata": {
    "language": "statlang"
   },
   "outputs": [
    {
     "name": "stdout",
     "output_type": "stream",
     "text": [
      "PROC MEANS - Grouped Analysis\n",
      "==================================================\n",
      "Analysis Variables: salary, total_compensation\n",
      "Grouping Variables: department\n",
      "\n",
      "department  | salary_count | salary_mean | salary_std         | salary_min | salary_max | total_compensation_count | total_compensation_mean | total_compensation_std | total_compensation_min | total_compensation_max\n",
      "-----------------------------------------------------------------------------------------------------------------------------------------------------------------------------------------------------------------------\n",
      "Engineering | 4            | 77500.0     | 6454.972243679028  | 70000.0    | 85000.0    | 4                        | 85250.0                 | 7100.469468046931      | 77000.0                | 93500.0               \n",
      "HR          | 1            | 62000.0     | nan                | 62000.0    | 62000.0    | 1                        | 68200.0                 | nan                    | 68200.0                | 68200.0               \n",
      "Marketing   | 3            | 58000.0     | 2645.7513110645905 | 55000.0    | 60000.0    | 3                        | 63800.0                 | 2910.3264421710496     | 60500.0                | 66000.0               \n",
      "Sales       | 2            | 47500.0     | 3535.5339059327375 | 45000.0    | 50000.0    | 2                        | 52250.0                 | 3889.0872965260114     | 49500.0                | 55000.0               \n"
     ]
    }
   ],
   "source": [
    "/* Demo 11: Advanced Statistics - PROC MEANS with, print, no output */\n",
    "proc means data=work.enhanced_employees;\n",
    "    class department;\n",
    "    var salary total_compensation;\n",
    "    output \n",
    "           mean=avg_salary avg_compensation \n",
    "           min=min_salary min_compensation \n",
    "           max=max_salary max_compensation;\n",
    "run;\n"
   ]
  },
  {
   "cell_type": "code",
   "execution_count": 1,
   "metadata": {
    "language": "statlang"
   },
   "outputs": [],
   "source": [
    "/* Demo 12: Advanced Statistics - PROC MEANS with noprint, and output */\n",
    "proc means data=work.enhanced_employees noprint;\n",
    "    class department;\n",
    "    var salary total_compensation;\n",
    "    output out=work.dept_summary \n",
    "           mean=avg_salary avg_compensation \n",
    "           min=min_salary min_compensation \n",
    "           max=max_salary max_compensation;\n",
    "run;\n"
   ]
  },
  {
   "cell_type": "code",
   "execution_count": 1,
   "metadata": {
    "language": "statlang"
   },
   "outputs": [
    {
     "name": "stdout",
     "output_type": "stream",
     "text": [
      "PROC PRINT - Dataset Contents\n",
      "==================================================\n",
      "Observations: 4\n",
      "Variables: 7\n",
      "\n",
      "department  | avg_salary | avg_compensation | max_salary | max_compensation | salary_min | total_compensation_min\n",
      "-----------------------------------------------------------------------------------------------------------------\n",
      "Engineering | 77500.0    | 85250.0          | 85000.0    | 93500.0          | 70000.0    | 77000.0               \n",
      "HR          | 62000.0    | 68200.0          | 62000.0    | 68200.0          | 62000.0    | 68200.0               \n",
      "Marketing   | 58000.0    | 63800.0          | 60000.0    | 66000.0          | 55000.0    | 60500.0               \n",
      "Sales       | 47500.0    | 52250.0          | 50000.0    | 55000.0          | 45000.0    | 49500.0               \n"
     ]
    }
   ],
   "source": [
    "/* Demo 12: Display Summary Statistics */\n",
    "proc print data=work.dept_summary;\n",
    "run;\n"
   ]
  },
  {
   "cell_type": "code",
   "execution_count": 1,
   "metadata": {
    "language": "statlang"
   },
   "outputs": [
    {
     "name": "stdout",
     "output_type": "stream",
     "text": [
      "PROC FREQ - Cross-tabulation: department * salary_category\n",
      "Options: nocol nopercent\n",
      "==================================================\n",
      "\n",
      "department      | High | Low | Medium | Total\n",
      "---------------------------------------------\n",
      "Engineering     | 3    | 0   | 1      | 4    \n",
      "HR              | 0    | 0   | 1      | 1    \n",
      "Marketing       | 0    | 1   | 2      | 3    \n",
      "Sales           | 0    | 2   | 0      | 2    \n",
      "Total           | 3    | 3   | 4      | 10   \n"
     ]
    }
   ],
   "source": [
    "/* Demo 13: Cross-tabulation Analysis */\n",
    "proc freq data=work.enhanced_employees;\n",
    "    tables department * salary_category / nocol nopercent;\n",
    "run;\n"
   ]
  },
  {
   "cell_type": "code",
   "execution_count": 1,
   "metadata": {
    "language": "statlang"
   },
   "outputs": [
    {
     "name": "stdout",
     "output_type": "stream",
     "text": [
      "PROC CONTENTS - Dataset Information\n",
      "==================================================\n",
      "\n",
      "Dataset Information:\n",
      "  Observations: 10\n",
      "  Variables: 12\n",
      "\n",
      "Variable Information:\n",
      "--------------------------------------------------------------------------------\n",
      "#   Variable             Type       Length   Non-Null   Null    \n",
      "--------------------------------------------------------------------------------\n",
      "1   employee_id          Numeric    8        10         0       \n",
      "2   name                 Character  Variable 10         0       \n",
      "3   department           Character  Variable 10         0       \n",
      "4   salary               Numeric    8        10         0       \n",
      "5   age                  Numeric    8        10         0       \n",
      "6   experience           Numeric    8        10         0       \n",
      "7   performance_score    Numeric    8        10         0       \n",
      "8   satisfaction         Character  Variable 10         0       \n",
      "9   remote               Numeric    8        10         0       \n",
      "10  salary_category      Character  Variable 10         0       \n",
      "11  annual_bonus         Numeric    8        10         0       \n",
      "12  total_compensation   Numeric    8        10         0       \n"
     ]
    }
   ],
   "source": [
    "/* Demo 14: PROC CONTENTS - Dataset Information */\n",
    "proc contents data=work.enhanced_employees;\n",
    "run;\n"
   ]
  },
  {
   "cell_type": "markdown",
   "metadata": {},
   "source": [
    "## 🎨 Advanced Features: Macro Facility and Format System\n",
    "\n",
    "StatLang v2.0 includes powerful SAS macro capabilities and comprehensive format system for professional data presentation and code reusability.\n",
    "\n",
    "### 🔧 Macro Facility Features:\n",
    "- **Macro Variables**: `%LET` for setting variables, `&` substitution\n",
    "- **Macro Definitions**: `%MACRO`/`%MEND` with parameter support\n",
    "- **Conditional Logic**: `%IF`/`%THEN`/`%ELSE` for dynamic code generation\n",
    "- **Loops**: `%DO`/`%END` for iterative processing\n",
    "- **System Variables**: Built-in variables like `&sysver`, `&sysdate`\n",
    "\n",
    "### 🎨 Format System Features:\n",
    "- **Built-in Formats**: DOLLAR, COMMA, PERCENT, DATE, TIME formats\n",
    "- **Format Persistence**: Formats stored with dataset metadata\n",
    "- **Professional Output**: Properly formatted tables and reports\n",
    "- **Format Inheritance**: Formats propagate through dataset operations\n"
   ]
  },
  {
   "cell_type": "code",
   "execution_count": 1,
   "metadata": {},
   "outputs": [
    {
     "name": "stdout",
     "output_type": "stream",
     "text": [
      "Saved dataset work.sales_report to library work\n",
      "PROC PRINT - Dataset Contents\n",
      "==================================================\n",
      "Observations: 4\n",
      "Variables: 4\n",
      "\n",
      "date       | sales      | marketing_spend | bonus_percent\n",
      "---------------------------------------------------------\n",
      "2024-01-15 | $15,000.50 | 5,000           | 15.00%       \n",
      "2024-02-20 | $18,000.75 | 6,000           | 18.00%       \n",
      "2024-03-25 | $22,000.00 | 7,000           | 22.00%       \n",
      "2024-04-30 | $19,500.25 | 5,500           | 16.00%       \n"
     ]
    },
    {
     "data": {
      "text/html": [
       "\n",
       "        <div class=\"statlang-dataset\" style=\"margin: 10px 0; border: 1px solid #ddd; border-radius: 4px; padding: 10px;\">\n",
       "            <h4 style=\"margin: 0 0 10px 0; color: #333;\">Dataset: work.sales_report</h4>\n",
       "            <p style=\"margin: 0 0 10px 0; color: #666; font-size: 0.9em;\">\n",
       "                4 observations, 4 variables\n",
       "            </p>\n",
       "        \n",
       "            <table style=\"border-collapse: collapse; width: 100%; font-size: 0.9em;\">\n",
       "                <thead>\n",
       "                    <tr style=\"background-color: #f5f5f5;\">\n",
       "            <th style=\"border: 1px solid #ddd; padding: 8px; text-align: left;\">date</th><th style=\"border: 1px solid #ddd; padding: 8px; text-align: left;\">sales</th><th style=\"border: 1px solid #ddd; padding: 8px; text-align: left;\">marketing_spend</th><th style=\"border: 1px solid #ddd; padding: 8px; text-align: left;\">bonus_percent</th>\n",
       "                    </tr>\n",
       "                </thead>\n",
       "                <tbody>\n",
       "            <tr><td style=\"border: 1px solid #ddd; padding: 8px;\">2024-01-15</td><td style=\"border: 1px solid #ddd; padding: 8px;\">15000.5</td><td style=\"border: 1px solid #ddd; padding: 8px;\">5000.0</td><td style=\"border: 1px solid #ddd; padding: 8px;\">0.15</td></tr><tr><td style=\"border: 1px solid #ddd; padding: 8px;\">2024-02-20</td><td style=\"border: 1px solid #ddd; padding: 8px;\">18000.75</td><td style=\"border: 1px solid #ddd; padding: 8px;\">6000.0</td><td style=\"border: 1px solid #ddd; padding: 8px;\">0.18</td></tr><tr><td style=\"border: 1px solid #ddd; padding: 8px;\">2024-03-25</td><td style=\"border: 1px solid #ddd; padding: 8px;\">22000.0</td><td style=\"border: 1px solid #ddd; padding: 8px;\">7000.0</td><td style=\"border: 1px solid #ddd; padding: 8px;\">0.22</td></tr><tr><td style=\"border: 1px solid #ddd; padding: 8px;\">2024-04-30</td><td style=\"border: 1px solid #ddd; padding: 8px;\">19500.25</td><td style=\"border: 1px solid #ddd; padding: 8px;\">5500.0</td><td style=\"border: 1px solid #ddd; padding: 8px;\">0.16</td></tr>\n",
       "                </tbody>\n",
       "            </table>\n",
       "            </div>"
      ],
      "text/plain": [
       "Dataset: work.sales_report (4 obs, 4 vars)"
      ]
     },
     "metadata": {},
     "output_type": "display_data"
    }
   ],
   "source": [
    "/* Demo 18: Professional Formatting with SAS Formats */\n",
    "data work.sales_report;\n",
    "    input date $ sales marketing_spend bonus_percent;\n",
    "    format sales dollar12.2 marketing_spend comma10.0 bonus_percent percent8.2;\n",
    "    datalines;\n",
    "2024-01-15 15000.50 5000 0.15\n",
    "2024-02-20 18000.75 6000 0.18\n",
    "2024-03-25 22000.00 7000 0.22\n",
    "2024-04-30 19500.25 5500 0.16\n",
    ";\n",
    "run;\n",
    "\n",
    "proc print data=work.sales_report;\n",
    "    title \"Sales Report with Professional Formatting\";\n",
    "run;\n"
   ]
  },
  {
   "cell_type": "code",
   "execution_count": 1,
   "metadata": {},
   "outputs": [
    {
     "name": "stdout",
     "output_type": "stream",
     "text": [
      "Saved dataset work.Engineering_employees to library work\n",
      "TITLE: StatLang Corp - Engineering Department (2024)\n",
      "\n",
      "PROC PRINT - Dataset Contents\n",
      "==================================================\n",
      "Observations: 3\n",
      "Variables: 3\n",
      "\n",
      "name     | salary     | experience\n",
      "----------------------------------\n",
      "John     | $75,000.00 | 5         \n",
      "Jane     | $80,000.00 | 7         \n",
      "Bob      | $65,000.00 | 3         \n",
      "Saved dataset work.Marketing_employees to library work\n",
      "TITLE: StatLang Corp - Marketing Department (2024)\n",
      "\n",
      "PROC PRINT - Dataset Contents\n",
      "==================================================\n",
      "Observations: 3\n",
      "Variables: 3\n",
      "\n",
      "name     | salary     | experience\n",
      "----------------------------------\n",
      "John     | $75,000.00 | 5         \n",
      "Jane     | $80,000.00 | 7         \n",
      "Bob      | $65,000.00 | 3         \n"
     ]
    },
    {
     "data": {
      "text/html": [
       "\n",
       "        <div class=\"statlang-dataset\" style=\"margin: 10px 0; border: 1px solid #ddd; border-radius: 4px; padding: 10px;\">\n",
       "            <h4 style=\"margin: 0 0 10px 0; color: #333;\">Dataset: work.Marketing_employees</h4>\n",
       "            <p style=\"margin: 0 0 10px 0; color: #666; font-size: 0.9em;\">\n",
       "                3 observations, 3 variables\n",
       "            </p>\n",
       "        \n",
       "            <table style=\"border-collapse: collapse; width: 100%; font-size: 0.9em;\">\n",
       "                <thead>\n",
       "                    <tr style=\"background-color: #f5f5f5;\">\n",
       "            <th style=\"border: 1px solid #ddd; padding: 8px; text-align: left;\">name</th><th style=\"border: 1px solid #ddd; padding: 8px; text-align: left;\">salary</th><th style=\"border: 1px solid #ddd; padding: 8px; text-align: left;\">experience</th>\n",
       "                    </tr>\n",
       "                </thead>\n",
       "                <tbody>\n",
       "            <tr><td style=\"border: 1px solid #ddd; padding: 8px;\">John</td><td style=\"border: 1px solid #ddd; padding: 8px;\">75000.0</td><td style=\"border: 1px solid #ddd; padding: 8px;\">5.0</td></tr><tr><td style=\"border: 1px solid #ddd; padding: 8px;\">Jane</td><td style=\"border: 1px solid #ddd; padding: 8px;\">80000.0</td><td style=\"border: 1px solid #ddd; padding: 8px;\">7.0</td></tr><tr><td style=\"border: 1px solid #ddd; padding: 8px;\">Bob</td><td style=\"border: 1px solid #ddd; padding: 8px;\">65000.0</td><td style=\"border: 1px solid #ddd; padding: 8px;\">3.0</td></tr>\n",
       "                </tbody>\n",
       "            </table>\n",
       "            </div>"
      ],
      "text/plain": [
       "Dataset: work.Marketing_employees (3 obs, 3 vars)"
      ]
     },
     "metadata": {},
     "output_type": "display_data"
    },
    {
     "data": {
      "text/html": [
       "\n",
       "        <div class=\"statlang-dataset\" style=\"margin: 10px 0; border: 1px solid #ddd; border-radius: 4px; padding: 10px;\">\n",
       "            <h4 style=\"margin: 0 0 10px 0; color: #333;\">Dataset: work.Engineering_employees</h4>\n",
       "            <p style=\"margin: 0 0 10px 0; color: #666; font-size: 0.9em;\">\n",
       "                3 observations, 3 variables\n",
       "            </p>\n",
       "        \n",
       "            <table style=\"border-collapse: collapse; width: 100%; font-size: 0.9em;\">\n",
       "                <thead>\n",
       "                    <tr style=\"background-color: #f5f5f5;\">\n",
       "            <th style=\"border: 1px solid #ddd; padding: 8px; text-align: left;\">name</th><th style=\"border: 1px solid #ddd; padding: 8px; text-align: left;\">salary</th><th style=\"border: 1px solid #ddd; padding: 8px; text-align: left;\">experience</th>\n",
       "                    </tr>\n",
       "                </thead>\n",
       "                <tbody>\n",
       "            <tr><td style=\"border: 1px solid #ddd; padding: 8px;\">John</td><td style=\"border: 1px solid #ddd; padding: 8px;\">75000.0</td><td style=\"border: 1px solid #ddd; padding: 8px;\">5.0</td></tr><tr><td style=\"border: 1px solid #ddd; padding: 8px;\">Jane</td><td style=\"border: 1px solid #ddd; padding: 8px;\">80000.0</td><td style=\"border: 1px solid #ddd; padding: 8px;\">7.0</td></tr><tr><td style=\"border: 1px solid #ddd; padding: 8px;\">Bob</td><td style=\"border: 1px solid #ddd; padding: 8px;\">65000.0</td><td style=\"border: 1px solid #ddd; padding: 8px;\">3.0</td></tr>\n",
       "                </tbody>\n",
       "            </table>\n",
       "            </div>"
      ],
      "text/plain": [
       "Dataset: work.Engineering_employees (3 obs, 3 vars)"
      ]
     },
     "metadata": {},
     "output_type": "display_data"
    }
   ],
   "source": [
    "/* Demo 19: SAS Macro Facility - Dynamic Code Generation */\n",
    "%let company = StatLang Corp;\n",
    "%let year = 2024;\n",
    "\n",
    "%macro create_department_report(dept);\n",
    "    data work.&dept._employees;\n",
    "        input name $ salary experience;\n",
    "        format salary dollar10.2 experience comma3.0;\n",
    "        datalines;\n",
    "    John 75000 5\n",
    "    Jane 80000 7\n",
    "    Bob 65000 3\n",
    "    ;\n",
    "    run;\n",
    "    \n",
    "    title \"&company - &dept Department (&year)\";\n",
    "    proc print data=work.&dept._employees;\n",
    "    run;\n",
    "%mend;\n",
    "\n",
    "%create_department_report(Engineering);\n",
    "%create_department_report(Marketing);\n"
   ]
  },
  {
   "cell_type": "markdown",
   "metadata": {},
   "source": [
    "## Demo 20: PROC SURVEYSELECT - Random Sampling\n",
    "\n",
    "**Purpose**: Random sampling of observations from datasets for statistical analysis and survey research.\n",
    "\n",
    "**Key Features**:\n",
    "- Simple Random Sampling (SRS) with `METHOD=SRS`\n",
    "- Sample size specification via `SAMPRATE=` (percentage) or `N=` (absolute count)\n",
    "- Reproducible sampling with `SEED=` option\n",
    "- Optional `OUTALL` flag to include all observations with selection indicator\n",
    "- Professional output with sampling statistics\n",
    "\n",
    "**Use Cases**:\n",
    "- Creating representative samples for analysis\n",
    "- Survey sampling and data collection\n",
    "- Cross-validation and holdout sets for machine learning\n",
    "- Quality control and auditing samples\n"
   ]
  },
  {
   "cell_type": "code",
   "execution_count": 1,
   "metadata": {},
   "outputs": [
    {
     "name": "stdout",
     "output_type": "stream",
     "text": [
      "Saved dataset work.population to library work\n",
      "PROC SURVEYSELECT - Random Sampling Results\n",
      "==================================================\n",
      "Sampling Method: SRS\n",
      "Total Observations: 20\n",
      "Sample Size: 10\n",
      "Sampling Rate: 0.500\n",
      "Random Seed: 12345\n",
      "\n",
      "Output Dataset: 10 observations (selected only)\n",
      "\n",
      "Sample Data Preview:\n",
      "------------------------------\n",
      "id       | name     | department  | salary   | experience\n",
      "---------------------------------------------------------\n",
      "1.0      | Alice    | Engineering | 75000.0  | 5.0       \n",
      "4.0      | David    | Sales       | 45000.0  | 2.0       \n",
      "8.0      | Henry    | Engineering | 85000.0  | 8.0       \n",
      "9.0      | Irene    | HR          | 62000.0  | 5.0       \n",
      "11.0     | Kelly    | Engineering | 72000.0  | 6.0       \n",
      "12.0     | Leo      | Sales       | 48000.0  | 2.0       \n",
      "13.0     | Mary     | Marketing   | 61000.0  | 5.0       \n",
      "14.0     | Nick     | Engineering | 78000.0  | 7.0       \n",
      "16.0     | Paul     | Sales       | 52000.0  | 3.0       \n",
      "17.0     | Quinn    | Engineering | 76000.0  | 5.0       \n",
      "PROC SURVEYSELECT - Random Sampling Results\n",
      "==================================================\n",
      "Sampling Method: SRS\n",
      "Total Observations: 20\n",
      "Sample Size: 8\n",
      "Sampling Rate: 0.400\n",
      "Random Seed: 54321\n",
      "\n",
      "Output Dataset: 8 observations (selected only)\n",
      "\n",
      "Sample Data Preview:\n",
      "------------------------------\n",
      "id       | name     | department  | salary   | experience\n",
      "---------------------------------------------------------\n",
      "2.0      | Bob      | Marketing   | 55000.0  | 3.0       \n",
      "4.0      | David    | Sales       | 45000.0  | 2.0       \n",
      "6.0      | Frank    | Marketing   | 60000.0  | 6.0       \n",
      "10.0     | Jack     | Marketing   | 59000.0  | 4.0       \n",
      "12.0     | Leo      | Sales       | 48000.0  | 2.0       \n",
      "13.0     | Mary     | Marketing   | 61000.0  | 5.0       \n",
      "16.0     | Paul     | Sales       | 52000.0  | 3.0       \n",
      "17.0     | Quinn    | Engineering | 76000.0  | 5.0       \n",
      "PROC SURVEYSELECT - Random Sampling Results\n",
      "==================================================\n",
      "Sampling Method: SRS\n",
      "Total Observations: 20\n",
      "Sample Size: 6\n",
      "Sampling Rate: 0.300\n",
      "Random Seed: 99999\n",
      "\n",
      "Output Dataset: 20 observations (all with selection indicator)\n",
      "Selected Observations: 6\n",
      "\n",
      "Sample Data Preview:\n",
      "------------------------------\n",
      "id       | name     | department  | salary   | experience | selected\n",
      "--------------------------------------------------------------------\n",
      "1.0      | Alice    | Engineering | 75000.0  | 5.0        | 1       \n",
      "2.0      | Bob      | Marketing   | 55000.0  | 3.0        | 0       \n",
      "3.0      | Carol    | Engineering | 80000.0  | 7.0        | 1       \n",
      "4.0      | David    | Sales       | 45000.0  | 2.0        | 0       \n",
      "5.0      | Eve      | Engineering | 70000.0  | 4.0        | 1       \n",
      "6.0      | Frank    | Marketing   | 60000.0  | 6.0        | 0       \n",
      "7.0      | Grace    | Sales       | 50000.0  | 3.0        | 0       \n",
      "8.0      | Henry    | Engineering | 85000.0  | 8.0        | 1       \n",
      "9.0      | Irene    | HR          | 62000.0  | 5.0        | 0       \n",
      "10.0     | Jack     | Marketing   | 59000.0  | 4.0        | 1       \n",
      "... and 10 more observations\n"
     ]
    },
    {
     "data": {
      "text/html": [
       "\n",
       "        <div class=\"statlang-dataset\" style=\"margin: 10px 0; border: 1px solid #ddd; border-radius: 4px; padding: 10px;\">\n",
       "            <h4 style=\"margin: 0 0 10px 0; color: #333;\">Dataset: work.population</h4>\n",
       "            <p style=\"margin: 0 0 10px 0; color: #666; font-size: 0.9em;\">\n",
       "                20 observations, 5 variables\n",
       "            </p>\n",
       "        \n",
       "            <table style=\"border-collapse: collapse; width: 100%; font-size: 0.9em;\">\n",
       "                <thead>\n",
       "                    <tr style=\"background-color: #f5f5f5;\">\n",
       "            <th style=\"border: 1px solid #ddd; padding: 8px; text-align: left;\">id</th><th style=\"border: 1px solid #ddd; padding: 8px; text-align: left;\">name</th><th style=\"border: 1px solid #ddd; padding: 8px; text-align: left;\">department</th><th style=\"border: 1px solid #ddd; padding: 8px; text-align: left;\">salary</th><th style=\"border: 1px solid #ddd; padding: 8px; text-align: left;\">experience</th>\n",
       "                    </tr>\n",
       "                </thead>\n",
       "                <tbody>\n",
       "            <tr><td style=\"border: 1px solid #ddd; padding: 8px;\">1.0</td><td style=\"border: 1px solid #ddd; padding: 8px;\">Alice</td><td style=\"border: 1px solid #ddd; padding: 8px;\">Engineering</td><td style=\"border: 1px solid #ddd; padding: 8px;\">75000.0</td><td style=\"border: 1px solid #ddd; padding: 8px;\">5.0</td></tr><tr><td style=\"border: 1px solid #ddd; padding: 8px;\">2.0</td><td style=\"border: 1px solid #ddd; padding: 8px;\">Bob</td><td style=\"border: 1px solid #ddd; padding: 8px;\">Marketing</td><td style=\"border: 1px solid #ddd; padding: 8px;\">55000.0</td><td style=\"border: 1px solid #ddd; padding: 8px;\">3.0</td></tr><tr><td style=\"border: 1px solid #ddd; padding: 8px;\">3.0</td><td style=\"border: 1px solid #ddd; padding: 8px;\">Carol</td><td style=\"border: 1px solid #ddd; padding: 8px;\">Engineering</td><td style=\"border: 1px solid #ddd; padding: 8px;\">80000.0</td><td style=\"border: 1px solid #ddd; padding: 8px;\">7.0</td></tr><tr><td style=\"border: 1px solid #ddd; padding: 8px;\">4.0</td><td style=\"border: 1px solid #ddd; padding: 8px;\">David</td><td style=\"border: 1px solid #ddd; padding: 8px;\">Sales</td><td style=\"border: 1px solid #ddd; padding: 8px;\">45000.0</td><td style=\"border: 1px solid #ddd; padding: 8px;\">2.0</td></tr><tr><td style=\"border: 1px solid #ddd; padding: 8px;\">5.0</td><td style=\"border: 1px solid #ddd; padding: 8px;\">Eve</td><td style=\"border: 1px solid #ddd; padding: 8px;\">Engineering</td><td style=\"border: 1px solid #ddd; padding: 8px;\">70000.0</td><td style=\"border: 1px solid #ddd; padding: 8px;\">4.0</td></tr>\n",
       "                </tbody>\n",
       "            </table>\n",
       "            </div>"
      ],
      "text/plain": [
       "Dataset: work.population (20 obs, 5 vars)"
      ]
     },
     "metadata": {},
     "output_type": "display_data"
    },
    {
     "data": {
      "text/html": [
       "\n",
       "        <div class=\"statlang-dataset\" style=\"margin: 10px 0; border: 1px solid #ddd; border-radius: 4px; padding: 10px;\">\n",
       "            <h4 style=\"margin: 0 0 10px 0; color: #333;\">Dataset: work.sample8</h4>\n",
       "            <p style=\"margin: 0 0 10px 0; color: #666; font-size: 0.9em;\">\n",
       "                8 observations, 5 variables\n",
       "            </p>\n",
       "        \n",
       "            <table style=\"border-collapse: collapse; width: 100%; font-size: 0.9em;\">\n",
       "                <thead>\n",
       "                    <tr style=\"background-color: #f5f5f5;\">\n",
       "            <th style=\"border: 1px solid #ddd; padding: 8px; text-align: left;\">id</th><th style=\"border: 1px solid #ddd; padding: 8px; text-align: left;\">name</th><th style=\"border: 1px solid #ddd; padding: 8px; text-align: left;\">department</th><th style=\"border: 1px solid #ddd; padding: 8px; text-align: left;\">salary</th><th style=\"border: 1px solid #ddd; padding: 8px; text-align: left;\">experience</th>\n",
       "                    </tr>\n",
       "                </thead>\n",
       "                <tbody>\n",
       "            <tr><td style=\"border: 1px solid #ddd; padding: 8px;\">2.0</td><td style=\"border: 1px solid #ddd; padding: 8px;\">Bob</td><td style=\"border: 1px solid #ddd; padding: 8px;\">Marketing</td><td style=\"border: 1px solid #ddd; padding: 8px;\">55000.0</td><td style=\"border: 1px solid #ddd; padding: 8px;\">3.0</td></tr><tr><td style=\"border: 1px solid #ddd; padding: 8px;\">4.0</td><td style=\"border: 1px solid #ddd; padding: 8px;\">David</td><td style=\"border: 1px solid #ddd; padding: 8px;\">Sales</td><td style=\"border: 1px solid #ddd; padding: 8px;\">45000.0</td><td style=\"border: 1px solid #ddd; padding: 8px;\">2.0</td></tr><tr><td style=\"border: 1px solid #ddd; padding: 8px;\">6.0</td><td style=\"border: 1px solid #ddd; padding: 8px;\">Frank</td><td style=\"border: 1px solid #ddd; padding: 8px;\">Marketing</td><td style=\"border: 1px solid #ddd; padding: 8px;\">60000.0</td><td style=\"border: 1px solid #ddd; padding: 8px;\">6.0</td></tr><tr><td style=\"border: 1px solid #ddd; padding: 8px;\">10.0</td><td style=\"border: 1px solid #ddd; padding: 8px;\">Jack</td><td style=\"border: 1px solid #ddd; padding: 8px;\">Marketing</td><td style=\"border: 1px solid #ddd; padding: 8px;\">59000.0</td><td style=\"border: 1px solid #ddd; padding: 8px;\">4.0</td></tr><tr><td style=\"border: 1px solid #ddd; padding: 8px;\">12.0</td><td style=\"border: 1px solid #ddd; padding: 8px;\">Leo</td><td style=\"border: 1px solid #ddd; padding: 8px;\">Sales</td><td style=\"border: 1px solid #ddd; padding: 8px;\">48000.0</td><td style=\"border: 1px solid #ddd; padding: 8px;\">2.0</td></tr>\n",
       "                </tbody>\n",
       "            </table>\n",
       "            </div>"
      ],
      "text/plain": [
       "Dataset: work.sample8 (8 obs, 5 vars)"
      ]
     },
     "metadata": {},
     "output_type": "display_data"
    },
    {
     "data": {
      "text/html": [
       "\n",
       "        <div class=\"statlang-dataset\" style=\"margin: 10px 0; border: 1px solid #ddd; border-radius: 4px; padding: 10px;\">\n",
       "            <h4 style=\"margin: 0 0 10px 0; color: #333;\">Dataset: work.sample30_all</h4>\n",
       "            <p style=\"margin: 0 0 10px 0; color: #666; font-size: 0.9em;\">\n",
       "                20 observations, 6 variables\n",
       "            </p>\n",
       "        \n",
       "            <table style=\"border-collapse: collapse; width: 100%; font-size: 0.9em;\">\n",
       "                <thead>\n",
       "                    <tr style=\"background-color: #f5f5f5;\">\n",
       "            <th style=\"border: 1px solid #ddd; padding: 8px; text-align: left;\">id</th><th style=\"border: 1px solid #ddd; padding: 8px; text-align: left;\">name</th><th style=\"border: 1px solid #ddd; padding: 8px; text-align: left;\">department</th><th style=\"border: 1px solid #ddd; padding: 8px; text-align: left;\">salary</th><th style=\"border: 1px solid #ddd; padding: 8px; text-align: left;\">experience</th><th style=\"border: 1px solid #ddd; padding: 8px; text-align: left;\">selected</th>\n",
       "                    </tr>\n",
       "                </thead>\n",
       "                <tbody>\n",
       "            <tr><td style=\"border: 1px solid #ddd; padding: 8px;\">1.0</td><td style=\"border: 1px solid #ddd; padding: 8px;\">Alice</td><td style=\"border: 1px solid #ddd; padding: 8px;\">Engineering</td><td style=\"border: 1px solid #ddd; padding: 8px;\">75000.0</td><td style=\"border: 1px solid #ddd; padding: 8px;\">5.0</td><td style=\"border: 1px solid #ddd; padding: 8px;\">1</td></tr><tr><td style=\"border: 1px solid #ddd; padding: 8px;\">2.0</td><td style=\"border: 1px solid #ddd; padding: 8px;\">Bob</td><td style=\"border: 1px solid #ddd; padding: 8px;\">Marketing</td><td style=\"border: 1px solid #ddd; padding: 8px;\">55000.0</td><td style=\"border: 1px solid #ddd; padding: 8px;\">3.0</td><td style=\"border: 1px solid #ddd; padding: 8px;\">0</td></tr><tr><td style=\"border: 1px solid #ddd; padding: 8px;\">3.0</td><td style=\"border: 1px solid #ddd; padding: 8px;\">Carol</td><td style=\"border: 1px solid #ddd; padding: 8px;\">Engineering</td><td style=\"border: 1px solid #ddd; padding: 8px;\">80000.0</td><td style=\"border: 1px solid #ddd; padding: 8px;\">7.0</td><td style=\"border: 1px solid #ddd; padding: 8px;\">1</td></tr><tr><td style=\"border: 1px solid #ddd; padding: 8px;\">4.0</td><td style=\"border: 1px solid #ddd; padding: 8px;\">David</td><td style=\"border: 1px solid #ddd; padding: 8px;\">Sales</td><td style=\"border: 1px solid #ddd; padding: 8px;\">45000.0</td><td style=\"border: 1px solid #ddd; padding: 8px;\">2.0</td><td style=\"border: 1px solid #ddd; padding: 8px;\">0</td></tr><tr><td style=\"border: 1px solid #ddd; padding: 8px;\">5.0</td><td style=\"border: 1px solid #ddd; padding: 8px;\">Eve</td><td style=\"border: 1px solid #ddd; padding: 8px;\">Engineering</td><td style=\"border: 1px solid #ddd; padding: 8px;\">70000.0</td><td style=\"border: 1px solid #ddd; padding: 8px;\">4.0</td><td style=\"border: 1px solid #ddd; padding: 8px;\">1</td></tr>\n",
       "                </tbody>\n",
       "            </table>\n",
       "            </div>"
      ],
      "text/plain": [
       "Dataset: work.sample30_all (20 obs, 6 vars)"
      ]
     },
     "metadata": {},
     "output_type": "display_data"
    },
    {
     "data": {
      "text/html": [
       "\n",
       "        <div class=\"statlang-dataset\" style=\"margin: 10px 0; border: 1px solid #ddd; border-radius: 4px; padding: 10px;\">\n",
       "            <h4 style=\"margin: 0 0 10px 0; color: #333;\">Dataset: work.sample50</h4>\n",
       "            <p style=\"margin: 0 0 10px 0; color: #666; font-size: 0.9em;\">\n",
       "                10 observations, 5 variables\n",
       "            </p>\n",
       "        \n",
       "            <table style=\"border-collapse: collapse; width: 100%; font-size: 0.9em;\">\n",
       "                <thead>\n",
       "                    <tr style=\"background-color: #f5f5f5;\">\n",
       "            <th style=\"border: 1px solid #ddd; padding: 8px; text-align: left;\">id</th><th style=\"border: 1px solid #ddd; padding: 8px; text-align: left;\">name</th><th style=\"border: 1px solid #ddd; padding: 8px; text-align: left;\">department</th><th style=\"border: 1px solid #ddd; padding: 8px; text-align: left;\">salary</th><th style=\"border: 1px solid #ddd; padding: 8px; text-align: left;\">experience</th>\n",
       "                    </tr>\n",
       "                </thead>\n",
       "                <tbody>\n",
       "            <tr><td style=\"border: 1px solid #ddd; padding: 8px;\">1.0</td><td style=\"border: 1px solid #ddd; padding: 8px;\">Alice</td><td style=\"border: 1px solid #ddd; padding: 8px;\">Engineering</td><td style=\"border: 1px solid #ddd; padding: 8px;\">75000.0</td><td style=\"border: 1px solid #ddd; padding: 8px;\">5.0</td></tr><tr><td style=\"border: 1px solid #ddd; padding: 8px;\">4.0</td><td style=\"border: 1px solid #ddd; padding: 8px;\">David</td><td style=\"border: 1px solid #ddd; padding: 8px;\">Sales</td><td style=\"border: 1px solid #ddd; padding: 8px;\">45000.0</td><td style=\"border: 1px solid #ddd; padding: 8px;\">2.0</td></tr><tr><td style=\"border: 1px solid #ddd; padding: 8px;\">8.0</td><td style=\"border: 1px solid #ddd; padding: 8px;\">Henry</td><td style=\"border: 1px solid #ddd; padding: 8px;\">Engineering</td><td style=\"border: 1px solid #ddd; padding: 8px;\">85000.0</td><td style=\"border: 1px solid #ddd; padding: 8px;\">8.0</td></tr><tr><td style=\"border: 1px solid #ddd; padding: 8px;\">9.0</td><td style=\"border: 1px solid #ddd; padding: 8px;\">Irene</td><td style=\"border: 1px solid #ddd; padding: 8px;\">HR</td><td style=\"border: 1px solid #ddd; padding: 8px;\">62000.0</td><td style=\"border: 1px solid #ddd; padding: 8px;\">5.0</td></tr><tr><td style=\"border: 1px solid #ddd; padding: 8px;\">11.0</td><td style=\"border: 1px solid #ddd; padding: 8px;\">Kelly</td><td style=\"border: 1px solid #ddd; padding: 8px;\">Engineering</td><td style=\"border: 1px solid #ddd; padding: 8px;\">72000.0</td><td style=\"border: 1px solid #ddd; padding: 8px;\">6.0</td></tr>\n",
       "                </tbody>\n",
       "            </table>\n",
       "            </div>"
      ],
      "text/plain": [
       "Dataset: work.sample50 (10 obs, 5 vars)"
      ]
     },
     "metadata": {},
     "output_type": "display_data"
    }
   ],
   "source": [
    "/* Demo 20: PROC SURVEYSELECT - Random Sampling */\n",
    "/* Create a larger dataset for sampling demonstration */\n",
    "data work.population;\n",
    "    input id name $ department $ salary experience;\n",
    "    datalines;\n",
    "1 Alice Engineering 75000 5\n",
    "2 Bob Marketing 55000 3\n",
    "3 Carol Engineering 80000 7\n",
    "4 David Sales 45000 2\n",
    "5 Eve Engineering 70000 4\n",
    "6 Frank Marketing 60000 6\n",
    "7 Grace Sales 50000 3\n",
    "8 Henry Engineering 85000 8\n",
    "9 Irene HR 62000 5\n",
    "10 Jack Marketing 59000 4\n",
    "11 Kelly Engineering 72000 6\n",
    "12 Leo Sales 48000 2\n",
    "13 Mary Marketing 61000 5\n",
    "14 Nick Engineering 78000 7\n",
    "15 Olivia HR 58000 4\n",
    "16 Paul Sales 52000 3\n",
    "17 Quinn Engineering 76000 5\n",
    "18 Rachel Marketing 64000 6\n",
    "19 Sam HR 60000 4\n",
    "20 Tom Engineering 82000 8\n",
    ";\n",
    "run;\n",
    "\n",
    "/* Example 1: 50% random sample */\n",
    "proc surveyselect data=work.population out=work.sample50 method=srs samprate=0.5 seed=12345;\n",
    "run;\n",
    "\n",
    "/* Example 2: Fixed sample size of 8 observations */\n",
    "proc surveyselect data=work.population out=work.sample8 method=srs n=8 seed=54321;\n",
    "run;\n",
    "\n",
    "/* Example 3: 30% sample with selection indicator (OUTALL) */\n",
    "proc surveyselect data=work.population out=work.sample30_all method=srs samprate=0.3 seed=99999 outall=true;\n",
    "run;\n"
   ]
  },
  {
   "cell_type": "code",
   "execution_count": null,
   "metadata": {},
   "outputs": [],
   "source": []
  },
  {
   "cell_type": "code",
   "execution_count": null,
   "metadata": {},
   "outputs": [],
   "source": []
  },
  {
   "cell_type": "code",
   "execution_count": null,
   "metadata": {},
   "outputs": [],
   "source": []
  }
 ],
 "metadata": {
  "kernelspec": {
   "display_name": "StatLang",
   "language": "statlang",
   "name": "statlang"
  },
  "language_info": {
   "codemirror_mode": "sas",
   "codemirror_mode_name": "sas",
   "file_extension": ".statlang",
   "mimetype": "text/x-statlang",
   "name": "statlang",
   "nbconvert_exporter": "python",
   "pygments_lexer": "sas",
   "version": "9.4"
  }
 },
 "nbformat": 4,
 "nbformat_minor": 4
}
